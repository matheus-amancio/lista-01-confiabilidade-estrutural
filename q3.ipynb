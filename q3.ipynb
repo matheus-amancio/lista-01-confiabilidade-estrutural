{
 "cells": [
  {
   "cell_type": "raw",
   "metadata": {},
   "source": [
    "---\n",
    "title: \"Questão 3 - Lista 1 - Confiabilidade Estrutural\"\n",
    "author: \"Matheus Amancio Miranda\"\n",
    "date: \"November 16, 2023\"\n",
    "lang: pt\n",
    "format:\n",
    "    html:\n",
    "        code-fold: true\n",
    "        self-contained: true\n",
    "jupyter: python3\n",
    "toc: true\n",
    "number-sections: true\n",
    "---"
   ]
  },
  {
   "cell_type": "markdown",
   "metadata": {},
   "source": [
    "A função densidade de probabilidade (PDF) de uma v.a. $X$ é dada pela equação a seguir.\n",
    "\n",
    "Se o seu valor esperado $E[X]$ vale 0,6, calcular o valor de $a$ e $b$.\n",
    "\n",
    "$$\n",
    "f(x) = \n",
    "    \\left\\{\\begin{array}{lr}\n",
    "        a + bx^{2}, & \\textrm{ se } 0 \\leq x \\leq 1 \\\\\n",
    "        0, & \\textrm{ para demais valores de } x\n",
    "    \\end{array}\\right.\n",
    "$$"
   ]
  },
  {
   "cell_type": "markdown",
   "metadata": {},
   "source": [
    "# Resolução\n",
    "\n",
    "Para obter os valores de $a$ e $b$, podemos primeiramente utilizar a propriedade de uma função densidade de probabilidade:\n",
    "\n",
    "$$\n",
    "\\int_{-\\infty}^{\\infty} f(x) \\, dx = 1\n",
    "$$\n",
    "\n",
    "Aplicando essa propriedade, obtemos:\n",
    "\n",
    "$$\n",
    "\\int_{-\\infty}^{0} 0 \\, dx + \\int_{0}^{1} (a + bx^{2}) \\, dx + \\int_{1}^{\\infty} 0 \\, dx = 1\n",
    "$$\n",
    "\n",
    "Resolvendo as integrais, obtemos:\n",
    "\n",
    "$$\n",
    "a + \\dfrac{1}{3} b = 1\n",
    "$$\n",
    "\n",
    "Utilizaremos agora a informação do valor esperado:\n",
    "\n",
    "$$\n",
    "E[X] = \\int_{-\\infty}^{\\infty} xf(x) \\, dx = 0{,}6\n",
    "$$\n",
    "\n",
    "$$\n",
    "\\int_{-\\infty}^{0} x \\cdot 0 \\, dx + \\int_{0}^{1} x \\cdot (a + bx^{2}) \\, dx + \\int_{1}^{\\infty} x \\cdot 0 \\, dx = 0{,}6\n",
    "$$\n",
    "\n",
    "$$\n",
    "\\int_{0}^{1} (ax + bx^{3}) \\, dx = 0{,}6\n",
    "$$\n",
    "\n",
    "Resolvendo a integral, obtemos:\n",
    "\n",
    "$$\n",
    "\\dfrac{1}{2} a + \\dfrac{1}{4} b = 0{,}6\n",
    "$$\n",
    "\n",
    "Dessa forma, escreve-se o seguinte sistema de equações lineares:\n",
    "\n",
    "$$\n",
    "\\left\\{\\begin{array}{lr}\n",
    "    a + \\dfrac{1}{3} b = 1 \\\\\n",
    "    \\dfrac{1}{2} a + \\dfrac{1}{4} b = 0{,}6\n",
    "\\end{array}\\right.\n",
    "$$\n"
   ]
  },
  {
   "cell_type": "markdown",
   "metadata": {},
   "source": [
    "No trecho de código abaixo utilizando a linguagem de programação [Python](https://www.python.org/) e a biblioteca [NumPy](https://numpy.org/), resolvemos o sistema linear."
   ]
  },
  {
   "cell_type": "code",
   "execution_count": 2,
   "metadata": {},
   "outputs": [
    {
     "data": {
      "text/plain": [
       "array([0.6, 1.2])"
      ]
     },
     "execution_count": 2,
     "metadata": {},
     "output_type": "execute_result"
    }
   ],
   "source": [
    "#| code-fold: false\n",
    "import numpy as np\n",
    "\n",
    "result = np.linalg.solve(\n",
    "    np.array([\n",
    "        [1, 1/3],\n",
    "        [1/2, 1/4]\n",
    "    ]),\n",
    "    np.array([1, 0.6])\n",
    ")\n",
    "result"
   ]
  },
  {
   "cell_type": "markdown",
   "metadata": {},
   "source": [
    "Portanto, obtemos\n",
    "\n",
    "$$a=0{,}6$$\n",
    "$$b=1{,}2$$\n",
    "\n",
    "Sendo assim, a PDF pode ser escrita como:\n",
    "\n",
    "$$\n",
    "f(x) = \n",
    "    \\left\\{\\begin{array}{lr}\n",
    "        0{,}6 + 1{,}2x^{2}, & \\textrm{ se } 0 \\leq x \\leq 1 \\\\\n",
    "        0, & \\textrm{ para demais valores de } x\n",
    "    \\end{array}\\right.\n",
    "$$\n",
    "\n",
    "Note que a propriedade da PDF $f(x) \\geq 0$ foi atendida para os valores de $a$ e $b$ calculados."
   ]
  }
 ],
 "metadata": {
  "kernelspec": {
   "display_name": "Python 3",
   "language": "python",
   "name": "python3"
  },
  "language_info": {
   "codemirror_mode": {
    "name": "ipython",
    "version": 3
   },
   "file_extension": ".py",
   "mimetype": "text/x-python",
   "name": "python",
   "nbconvert_exporter": "python",
   "pygments_lexer": "ipython3",
   "version": "3.12.0"
  }
 },
 "nbformat": 4,
 "nbformat_minor": 2
}
