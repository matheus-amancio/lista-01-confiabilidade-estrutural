{
 "cells": [
  {
   "cell_type": "raw",
   "id": "e8707b7a-7281-41af-86f7-f76f354d6947",
   "metadata": {},
   "source": [
    "---\n",
    "title: \"Questão 1 - Lista 1 - Confiabilidade Estrutural\"\n",
    "author: \"Matheus Amancio Miranda\"\n",
    "date: \"November 16, 2023\"\n",
    "lang: pt\n",
    "format:\n",
    "    html:\n",
    "        code-fold: true\n",
    "        self-contained: true\n",
    "jupyter: python3\n",
    "toc: true\n",
    "number-sections: true\n",
    "---"
   ]
  },
  {
   "cell_type": "markdown",
   "id": "1a8158db",
   "metadata": {},
   "source": [
    "Seja a base de dados [Gapminder](https://www.gapminder.org/data/). Tomando-se uma série amostral qualquer (buscar por “Choose individual indicators”), deve-se:\n",
    "\n",
    "a) Caracterizar a amostra, inclusive graficamente;\n",
    "\n",
    "b) Com base no modelo Gaussiano e em um segundo (à escolha), verificar sua aderência\n",
    "à série de dados, usando o teste de Kolmogorov-Smirnov. Deve-se implementar o\n",
    "teste, sendo desejável validar a implementação com base em rotina disponível numa\n",
    "ferramenta de análise matemática ou linguagem de programação qualquer. "
   ]
  },
  {
   "cell_type": "markdown",
   "id": "b640fc0d",
   "metadata": {},
   "source": [
    "## Item a)"
   ]
  },
  {
   "cell_type": "markdown",
   "id": "e857a09c-a214-4a6e-b844-0f5de0cb9354",
   "metadata": {},
   "source": [
    "### Leitura e filtragem dos dados"
   ]
  },
  {
   "cell_type": "markdown",
   "id": "3a1887f7-e3d9-4334-98dd-4526e1ade466",
   "metadata": {},
   "source": [
    "Os dados escolhidos da base de dados [Gapminder](https://www.gapminder.org/data/) foram os de expectativas de vida.\n",
    "\n",
    "Optou-se por trabalhar com os dados somente do Brasil, no período de 1970 à 2019. Sendo assim, antes de calcular os parâmetros e gerar os gráficos para caracterização da amostra, é necessário filtrar os dados obtidos.\n",
    "\n",
    "Neste item, utilizou-se a linguagem de programação [Python](https://www.python.org/) e para efetuar a leitura e filtragem dos dados utilizou-se a famosa biblioteca [Pandas](https://pandas.pydata.org/).\n",
    "\n",
    "A leitura dos dados do arquivo `lex.csv` é feita pelo trecho do código abaixo."
   ]
  },
  {
   "cell_type": "code",
   "execution_count": 1,
   "id": "5ec77b38",
   "metadata": {},
   "outputs": [
    {
     "data": {
      "text/html": [
       "<div>\n",
       "<style scoped>\n",
       "    .dataframe tbody tr th:only-of-type {\n",
       "        vertical-align: middle;\n",
       "    }\n",
       "\n",
       "    .dataframe tbody tr th {\n",
       "        vertical-align: top;\n",
       "    }\n",
       "\n",
       "    .dataframe thead th {\n",
       "        text-align: right;\n",
       "    }\n",
       "</style>\n",
       "<table border=\"1\" class=\"dataframe\">\n",
       "  <thead>\n",
       "    <tr style=\"text-align: right;\">\n",
       "      <th></th>\n",
       "      <th>country</th>\n",
       "      <th>1800</th>\n",
       "      <th>1801</th>\n",
       "      <th>1802</th>\n",
       "      <th>1803</th>\n",
       "      <th>1804</th>\n",
       "      <th>1805</th>\n",
       "      <th>1806</th>\n",
       "      <th>1807</th>\n",
       "      <th>1808</th>\n",
       "      <th>...</th>\n",
       "      <th>2091</th>\n",
       "      <th>2092</th>\n",
       "      <th>2093</th>\n",
       "      <th>2094</th>\n",
       "      <th>2095</th>\n",
       "      <th>2096</th>\n",
       "      <th>2097</th>\n",
       "      <th>2098</th>\n",
       "      <th>2099</th>\n",
       "      <th>2100</th>\n",
       "    </tr>\n",
       "  </thead>\n",
       "  <tbody>\n",
       "    <tr>\n",
       "      <th>0</th>\n",
       "      <td>Afghanistan</td>\n",
       "      <td>28.2</td>\n",
       "      <td>28.2</td>\n",
       "      <td>28.2</td>\n",
       "      <td>28.2</td>\n",
       "      <td>28.2</td>\n",
       "      <td>28.2</td>\n",
       "      <td>28.1</td>\n",
       "      <td>28.1</td>\n",
       "      <td>28.1</td>\n",
       "      <td>...</td>\n",
       "      <td>75.5</td>\n",
       "      <td>75.7</td>\n",
       "      <td>75.8</td>\n",
       "      <td>76.0</td>\n",
       "      <td>76.1</td>\n",
       "      <td>76.2</td>\n",
       "      <td>76.4</td>\n",
       "      <td>76.5</td>\n",
       "      <td>76.6</td>\n",
       "      <td>76.8</td>\n",
       "    </tr>\n",
       "    <tr>\n",
       "      <th>1</th>\n",
       "      <td>Angola</td>\n",
       "      <td>27.0</td>\n",
       "      <td>27.0</td>\n",
       "      <td>27.0</td>\n",
       "      <td>27.0</td>\n",
       "      <td>27.0</td>\n",
       "      <td>27.0</td>\n",
       "      <td>27.0</td>\n",
       "      <td>27.0</td>\n",
       "      <td>27.0</td>\n",
       "      <td>...</td>\n",
       "      <td>78.8</td>\n",
       "      <td>79.0</td>\n",
       "      <td>79.1</td>\n",
       "      <td>79.2</td>\n",
       "      <td>79.3</td>\n",
       "      <td>79.5</td>\n",
       "      <td>79.6</td>\n",
       "      <td>79.7</td>\n",
       "      <td>79.9</td>\n",
       "      <td>80.0</td>\n",
       "    </tr>\n",
       "    <tr>\n",
       "      <th>2</th>\n",
       "      <td>Albania</td>\n",
       "      <td>35.4</td>\n",
       "      <td>35.4</td>\n",
       "      <td>35.4</td>\n",
       "      <td>35.4</td>\n",
       "      <td>35.4</td>\n",
       "      <td>35.4</td>\n",
       "      <td>35.4</td>\n",
       "      <td>35.4</td>\n",
       "      <td>35.4</td>\n",
       "      <td>...</td>\n",
       "      <td>87.4</td>\n",
       "      <td>87.5</td>\n",
       "      <td>87.6</td>\n",
       "      <td>87.7</td>\n",
       "      <td>87.8</td>\n",
       "      <td>87.9</td>\n",
       "      <td>88.0</td>\n",
       "      <td>88.2</td>\n",
       "      <td>88.3</td>\n",
       "      <td>88.4</td>\n",
       "    </tr>\n",
       "    <tr>\n",
       "      <th>3</th>\n",
       "      <td>Andorra</td>\n",
       "      <td>NaN</td>\n",
       "      <td>NaN</td>\n",
       "      <td>NaN</td>\n",
       "      <td>NaN</td>\n",
       "      <td>NaN</td>\n",
       "      <td>NaN</td>\n",
       "      <td>NaN</td>\n",
       "      <td>NaN</td>\n",
       "      <td>NaN</td>\n",
       "      <td>...</td>\n",
       "      <td>NaN</td>\n",
       "      <td>NaN</td>\n",
       "      <td>NaN</td>\n",
       "      <td>NaN</td>\n",
       "      <td>NaN</td>\n",
       "      <td>NaN</td>\n",
       "      <td>NaN</td>\n",
       "      <td>NaN</td>\n",
       "      <td>NaN</td>\n",
       "      <td>NaN</td>\n",
       "    </tr>\n",
       "    <tr>\n",
       "      <th>4</th>\n",
       "      <td>UAE</td>\n",
       "      <td>30.7</td>\n",
       "      <td>30.7</td>\n",
       "      <td>30.7</td>\n",
       "      <td>30.7</td>\n",
       "      <td>30.7</td>\n",
       "      <td>30.7</td>\n",
       "      <td>30.7</td>\n",
       "      <td>30.7</td>\n",
       "      <td>30.7</td>\n",
       "      <td>...</td>\n",
       "      <td>82.4</td>\n",
       "      <td>82.5</td>\n",
       "      <td>82.6</td>\n",
       "      <td>82.7</td>\n",
       "      <td>82.8</td>\n",
       "      <td>82.9</td>\n",
       "      <td>83.0</td>\n",
       "      <td>83.1</td>\n",
       "      <td>83.2</td>\n",
       "      <td>83.3</td>\n",
       "    </tr>\n",
       "    <tr>\n",
       "      <th>...</th>\n",
       "      <td>...</td>\n",
       "      <td>...</td>\n",
       "      <td>...</td>\n",
       "      <td>...</td>\n",
       "      <td>...</td>\n",
       "      <td>...</td>\n",
       "      <td>...</td>\n",
       "      <td>...</td>\n",
       "      <td>...</td>\n",
       "      <td>...</td>\n",
       "      <td>...</td>\n",
       "      <td>...</td>\n",
       "      <td>...</td>\n",
       "      <td>...</td>\n",
       "      <td>...</td>\n",
       "      <td>...</td>\n",
       "      <td>...</td>\n",
       "      <td>...</td>\n",
       "      <td>...</td>\n",
       "      <td>...</td>\n",
       "      <td>...</td>\n",
       "    </tr>\n",
       "    <tr>\n",
       "      <th>190</th>\n",
       "      <td>Samoa</td>\n",
       "      <td>25.4</td>\n",
       "      <td>25.4</td>\n",
       "      <td>25.4</td>\n",
       "      <td>25.4</td>\n",
       "      <td>25.4</td>\n",
       "      <td>25.4</td>\n",
       "      <td>25.4</td>\n",
       "      <td>25.4</td>\n",
       "      <td>25.4</td>\n",
       "      <td>...</td>\n",
       "      <td>79.8</td>\n",
       "      <td>79.9</td>\n",
       "      <td>80.0</td>\n",
       "      <td>80.1</td>\n",
       "      <td>80.3</td>\n",
       "      <td>80.4</td>\n",
       "      <td>80.5</td>\n",
       "      <td>80.6</td>\n",
       "      <td>80.7</td>\n",
       "      <td>80.8</td>\n",
       "    </tr>\n",
       "    <tr>\n",
       "      <th>191</th>\n",
       "      <td>Yemen</td>\n",
       "      <td>23.4</td>\n",
       "      <td>23.4</td>\n",
       "      <td>23.4</td>\n",
       "      <td>23.4</td>\n",
       "      <td>23.4</td>\n",
       "      <td>23.4</td>\n",
       "      <td>23.4</td>\n",
       "      <td>23.4</td>\n",
       "      <td>23.4</td>\n",
       "      <td>...</td>\n",
       "      <td>76.9</td>\n",
       "      <td>77.0</td>\n",
       "      <td>77.1</td>\n",
       "      <td>77.3</td>\n",
       "      <td>77.4</td>\n",
       "      <td>77.5</td>\n",
       "      <td>77.6</td>\n",
       "      <td>77.8</td>\n",
       "      <td>77.9</td>\n",
       "      <td>78.0</td>\n",
       "    </tr>\n",
       "    <tr>\n",
       "      <th>192</th>\n",
       "      <td>South Africa</td>\n",
       "      <td>33.5</td>\n",
       "      <td>33.5</td>\n",
       "      <td>33.5</td>\n",
       "      <td>33.5</td>\n",
       "      <td>33.5</td>\n",
       "      <td>33.5</td>\n",
       "      <td>33.5</td>\n",
       "      <td>33.5</td>\n",
       "      <td>33.5</td>\n",
       "      <td>...</td>\n",
       "      <td>76.4</td>\n",
       "      <td>76.5</td>\n",
       "      <td>76.7</td>\n",
       "      <td>76.8</td>\n",
       "      <td>77.0</td>\n",
       "      <td>77.1</td>\n",
       "      <td>77.3</td>\n",
       "      <td>77.4</td>\n",
       "      <td>77.5</td>\n",
       "      <td>77.7</td>\n",
       "    </tr>\n",
       "    <tr>\n",
       "      <th>193</th>\n",
       "      <td>Zambia</td>\n",
       "      <td>32.6</td>\n",
       "      <td>32.6</td>\n",
       "      <td>32.6</td>\n",
       "      <td>32.6</td>\n",
       "      <td>32.6</td>\n",
       "      <td>32.6</td>\n",
       "      <td>32.6</td>\n",
       "      <td>32.6</td>\n",
       "      <td>32.6</td>\n",
       "      <td>...</td>\n",
       "      <td>75.8</td>\n",
       "      <td>76.0</td>\n",
       "      <td>76.1</td>\n",
       "      <td>76.3</td>\n",
       "      <td>76.4</td>\n",
       "      <td>76.5</td>\n",
       "      <td>76.7</td>\n",
       "      <td>76.8</td>\n",
       "      <td>77.0</td>\n",
       "      <td>77.1</td>\n",
       "    </tr>\n",
       "    <tr>\n",
       "      <th>194</th>\n",
       "      <td>Zimbabwe</td>\n",
       "      <td>33.7</td>\n",
       "      <td>33.7</td>\n",
       "      <td>33.7</td>\n",
       "      <td>33.7</td>\n",
       "      <td>33.7</td>\n",
       "      <td>33.7</td>\n",
       "      <td>33.7</td>\n",
       "      <td>33.7</td>\n",
       "      <td>33.7</td>\n",
       "      <td>...</td>\n",
       "      <td>73.3</td>\n",
       "      <td>73.4</td>\n",
       "      <td>73.5</td>\n",
       "      <td>73.7</td>\n",
       "      <td>73.8</td>\n",
       "      <td>73.9</td>\n",
       "      <td>74.0</td>\n",
       "      <td>74.2</td>\n",
       "      <td>74.3</td>\n",
       "      <td>74.4</td>\n",
       "    </tr>\n",
       "  </tbody>\n",
       "</table>\n",
       "<p>195 rows × 302 columns</p>\n",
       "</div>"
      ],
      "text/plain": [
       "          country  1800  1801  1802  1803  1804  1805  1806  1807  1808  ...  \\\n",
       "0     Afghanistan  28.2  28.2  28.2  28.2  28.2  28.2  28.1  28.1  28.1  ...   \n",
       "1          Angola  27.0  27.0  27.0  27.0  27.0  27.0  27.0  27.0  27.0  ...   \n",
       "2         Albania  35.4  35.4  35.4  35.4  35.4  35.4  35.4  35.4  35.4  ...   \n",
       "3         Andorra   NaN   NaN   NaN   NaN   NaN   NaN   NaN   NaN   NaN  ...   \n",
       "4             UAE  30.7  30.7  30.7  30.7  30.7  30.7  30.7  30.7  30.7  ...   \n",
       "..            ...   ...   ...   ...   ...   ...   ...   ...   ...   ...  ...   \n",
       "190         Samoa  25.4  25.4  25.4  25.4  25.4  25.4  25.4  25.4  25.4  ...   \n",
       "191         Yemen  23.4  23.4  23.4  23.4  23.4  23.4  23.4  23.4  23.4  ...   \n",
       "192  South Africa  33.5  33.5  33.5  33.5  33.5  33.5  33.5  33.5  33.5  ...   \n",
       "193        Zambia  32.6  32.6  32.6  32.6  32.6  32.6  32.6  32.6  32.6  ...   \n",
       "194      Zimbabwe  33.7  33.7  33.7  33.7  33.7  33.7  33.7  33.7  33.7  ...   \n",
       "\n",
       "     2091  2092  2093  2094  2095  2096  2097  2098  2099  2100  \n",
       "0    75.5  75.7  75.8  76.0  76.1  76.2  76.4  76.5  76.6  76.8  \n",
       "1    78.8  79.0  79.1  79.2  79.3  79.5  79.6  79.7  79.9  80.0  \n",
       "2    87.4  87.5  87.6  87.7  87.8  87.9  88.0  88.2  88.3  88.4  \n",
       "3     NaN   NaN   NaN   NaN   NaN   NaN   NaN   NaN   NaN   NaN  \n",
       "4    82.4  82.5  82.6  82.7  82.8  82.9  83.0  83.1  83.2  83.3  \n",
       "..    ...   ...   ...   ...   ...   ...   ...   ...   ...   ...  \n",
       "190  79.8  79.9  80.0  80.1  80.3  80.4  80.5  80.6  80.7  80.8  \n",
       "191  76.9  77.0  77.1  77.3  77.4  77.5  77.6  77.8  77.9  78.0  \n",
       "192  76.4  76.5  76.7  76.8  77.0  77.1  77.3  77.4  77.5  77.7  \n",
       "193  75.8  76.0  76.1  76.3  76.4  76.5  76.7  76.8  77.0  77.1  \n",
       "194  73.3  73.4  73.5  73.7  73.8  73.9  74.0  74.2  74.3  74.4  \n",
       "\n",
       "[195 rows x 302 columns]"
      ]
     },
     "execution_count": 1,
     "metadata": {},
     "output_type": "execute_result"
    }
   ],
   "source": [
    "# | code-fold: false\n",
    "import pandas as pd\n",
    "\n",
    "df = pd.read_csv(\"lex.csv\")\n",
    "df"
   ]
  },
  {
   "cell_type": "markdown",
   "id": "e91f89b9",
   "metadata": {},
   "source": [
    "Como foi dito acima, trabalharemos com os dados somente do Brasil, no período de 1970 a 2019. No trecho de código abaixo são apresentadas as instruções para as filtragens necessárias e também manipulações com as estruturas de dados da biblioteca `pandas` para facilitar os trabalhos posteriores. Após o trecho de código, uma tabela com os dados filtrados é apresentada."
   ]
  },
  {
   "cell_type": "code",
   "execution_count": 2,
   "id": "7aaa47c0-2c33-450a-933a-6842925244f4",
   "metadata": {},
   "outputs": [
    {
     "data": {
      "text/html": [
       "<div>\n",
       "<style scoped>\n",
       "    .dataframe tbody tr th:only-of-type {\n",
       "        vertical-align: middle;\n",
       "    }\n",
       "\n",
       "    .dataframe tbody tr th {\n",
       "        vertical-align: top;\n",
       "    }\n",
       "\n",
       "    .dataframe thead th {\n",
       "        text-align: right;\n",
       "    }\n",
       "</style>\n",
       "<table border=\"1\" class=\"dataframe\">\n",
       "  <thead>\n",
       "    <tr style=\"text-align: right;\">\n",
       "      <th></th>\n",
       "      <th>Brazil Life Expectancy</th>\n",
       "    </tr>\n",
       "    <tr>\n",
       "      <th>Year</th>\n",
       "      <th></th>\n",
       "    </tr>\n",
       "  </thead>\n",
       "  <tbody>\n",
       "    <tr>\n",
       "      <th>1970</th>\n",
       "      <td>56.9</td>\n",
       "    </tr>\n",
       "    <tr>\n",
       "      <th>1971</th>\n",
       "      <td>57.5</td>\n",
       "    </tr>\n",
       "    <tr>\n",
       "      <th>1972</th>\n",
       "      <td>58.0</td>\n",
       "    </tr>\n",
       "    <tr>\n",
       "      <th>1973</th>\n",
       "      <td>58.6</td>\n",
       "    </tr>\n",
       "    <tr>\n",
       "      <th>1974</th>\n",
       "      <td>59.2</td>\n",
       "    </tr>\n",
       "    <tr>\n",
       "      <th>1975</th>\n",
       "      <td>59.8</td>\n",
       "    </tr>\n",
       "    <tr>\n",
       "      <th>1976</th>\n",
       "      <td>60.4</td>\n",
       "    </tr>\n",
       "    <tr>\n",
       "      <th>1977</th>\n",
       "      <td>61.1</td>\n",
       "    </tr>\n",
       "    <tr>\n",
       "      <th>1978</th>\n",
       "      <td>61.7</td>\n",
       "    </tr>\n",
       "    <tr>\n",
       "      <th>1979</th>\n",
       "      <td>62.3</td>\n",
       "    </tr>\n",
       "    <tr>\n",
       "      <th>1980</th>\n",
       "      <td>62.7</td>\n",
       "    </tr>\n",
       "    <tr>\n",
       "      <th>1981</th>\n",
       "      <td>63.3</td>\n",
       "    </tr>\n",
       "    <tr>\n",
       "      <th>1982</th>\n",
       "      <td>63.9</td>\n",
       "    </tr>\n",
       "    <tr>\n",
       "      <th>1983</th>\n",
       "      <td>64.1</td>\n",
       "    </tr>\n",
       "    <tr>\n",
       "      <th>1984</th>\n",
       "      <td>64.2</td>\n",
       "    </tr>\n",
       "    <tr>\n",
       "      <th>1985</th>\n",
       "      <td>64.6</td>\n",
       "    </tr>\n",
       "    <tr>\n",
       "      <th>1986</th>\n",
       "      <td>65.1</td>\n",
       "    </tr>\n",
       "    <tr>\n",
       "      <th>1987</th>\n",
       "      <td>65.7</td>\n",
       "    </tr>\n",
       "    <tr>\n",
       "      <th>1988</th>\n",
       "      <td>66.1</td>\n",
       "    </tr>\n",
       "    <tr>\n",
       "      <th>1989</th>\n",
       "      <td>66.7</td>\n",
       "    </tr>\n",
       "    <tr>\n",
       "      <th>1990</th>\n",
       "      <td>67.3</td>\n",
       "    </tr>\n",
       "    <tr>\n",
       "      <th>1991</th>\n",
       "      <td>67.9</td>\n",
       "    </tr>\n",
       "    <tr>\n",
       "      <th>1992</th>\n",
       "      <td>68.3</td>\n",
       "    </tr>\n",
       "    <tr>\n",
       "      <th>1993</th>\n",
       "      <td>68.4</td>\n",
       "    </tr>\n",
       "    <tr>\n",
       "      <th>1994</th>\n",
       "      <td>68.8</td>\n",
       "    </tr>\n",
       "    <tr>\n",
       "      <th>1995</th>\n",
       "      <td>69.2</td>\n",
       "    </tr>\n",
       "    <tr>\n",
       "      <th>1996</th>\n",
       "      <td>69.5</td>\n",
       "    </tr>\n",
       "    <tr>\n",
       "      <th>1997</th>\n",
       "      <td>70.1</td>\n",
       "    </tr>\n",
       "    <tr>\n",
       "      <th>1998</th>\n",
       "      <td>70.4</td>\n",
       "    </tr>\n",
       "    <tr>\n",
       "      <th>1999</th>\n",
       "      <td>70.8</td>\n",
       "    </tr>\n",
       "    <tr>\n",
       "      <th>2000</th>\n",
       "      <td>71.2</td>\n",
       "    </tr>\n",
       "    <tr>\n",
       "      <th>2001</th>\n",
       "      <td>71.5</td>\n",
       "    </tr>\n",
       "    <tr>\n",
       "      <th>2002</th>\n",
       "      <td>71.8</td>\n",
       "    </tr>\n",
       "    <tr>\n",
       "      <th>2003</th>\n",
       "      <td>72.0</td>\n",
       "    </tr>\n",
       "    <tr>\n",
       "      <th>2004</th>\n",
       "      <td>72.3</td>\n",
       "    </tr>\n",
       "    <tr>\n",
       "      <th>2005</th>\n",
       "      <td>72.8</td>\n",
       "    </tr>\n",
       "    <tr>\n",
       "      <th>2006</th>\n",
       "      <td>73.1</td>\n",
       "    </tr>\n",
       "    <tr>\n",
       "      <th>2007</th>\n",
       "      <td>73.3</td>\n",
       "    </tr>\n",
       "    <tr>\n",
       "      <th>2008</th>\n",
       "      <td>73.5</td>\n",
       "    </tr>\n",
       "    <tr>\n",
       "      <th>2009</th>\n",
       "      <td>73.7</td>\n",
       "    </tr>\n",
       "    <tr>\n",
       "      <th>2010</th>\n",
       "      <td>73.8</td>\n",
       "    </tr>\n",
       "    <tr>\n",
       "      <th>2011</th>\n",
       "      <td>74.0</td>\n",
       "    </tr>\n",
       "    <tr>\n",
       "      <th>2012</th>\n",
       "      <td>74.3</td>\n",
       "    </tr>\n",
       "    <tr>\n",
       "      <th>2013</th>\n",
       "      <td>74.5</td>\n",
       "    </tr>\n",
       "    <tr>\n",
       "      <th>2014</th>\n",
       "      <td>74.8</td>\n",
       "    </tr>\n",
       "    <tr>\n",
       "      <th>2015</th>\n",
       "      <td>75.0</td>\n",
       "    </tr>\n",
       "    <tr>\n",
       "      <th>2016</th>\n",
       "      <td>75.0</td>\n",
       "    </tr>\n",
       "    <tr>\n",
       "      <th>2017</th>\n",
       "      <td>75.4</td>\n",
       "    </tr>\n",
       "    <tr>\n",
       "      <th>2018</th>\n",
       "      <td>75.7</td>\n",
       "    </tr>\n",
       "    <tr>\n",
       "      <th>2019</th>\n",
       "      <td>75.8</td>\n",
       "    </tr>\n",
       "  </tbody>\n",
       "</table>\n",
       "</div>"
      ],
      "text/plain": [
       "      Brazil Life Expectancy\n",
       "Year                        \n",
       "1970                    56.9\n",
       "1971                    57.5\n",
       "1972                    58.0\n",
       "1973                    58.6\n",
       "1974                    59.2\n",
       "1975                    59.8\n",
       "1976                    60.4\n",
       "1977                    61.1\n",
       "1978                    61.7\n",
       "1979                    62.3\n",
       "1980                    62.7\n",
       "1981                    63.3\n",
       "1982                    63.9\n",
       "1983                    64.1\n",
       "1984                    64.2\n",
       "1985                    64.6\n",
       "1986                    65.1\n",
       "1987                    65.7\n",
       "1988                    66.1\n",
       "1989                    66.7\n",
       "1990                    67.3\n",
       "1991                    67.9\n",
       "1992                    68.3\n",
       "1993                    68.4\n",
       "1994                    68.8\n",
       "1995                    69.2\n",
       "1996                    69.5\n",
       "1997                    70.1\n",
       "1998                    70.4\n",
       "1999                    70.8\n",
       "2000                    71.2\n",
       "2001                    71.5\n",
       "2002                    71.8\n",
       "2003                    72.0\n",
       "2004                    72.3\n",
       "2005                    72.8\n",
       "2006                    73.1\n",
       "2007                    73.3\n",
       "2008                    73.5\n",
       "2009                    73.7\n",
       "2010                    73.8\n",
       "2011                    74.0\n",
       "2012                    74.3\n",
       "2013                    74.5\n",
       "2014                    74.8\n",
       "2015                    75.0\n",
       "2016                    75.0\n",
       "2017                    75.4\n",
       "2018                    75.7\n",
       "2019                    75.8"
      ]
     },
     "execution_count": 2,
     "metadata": {},
     "output_type": "execute_result"
    }
   ],
   "source": [
    "# | code-fold: false\n",
    "START_YEAR = 1970\n",
    "END_YEAR = 2019\n",
    "\n",
    "brazil_life_expectancy_serie = (\n",
    "    df[(df.country == \"Brazil\")]\n",
    "    .drop(columns=\"country\")\n",
    "    .reset_index(drop=True)\n",
    "    .squeeze()\n",
    "    .rename(\"Brazil Life Expectancy\")\n",
    ")\n",
    "\n",
    "df_brazil_life_expectancy = pd.DataFrame(brazil_life_expectancy_serie)\n",
    "df_brazil_life_expectancy.index = df_brazil_life_expectancy.index.astype(int)\n",
    "df_brazil_life_expectancy.index.names = [\"Year\"]\n",
    "df_brazil_life_expectancy = df_brazil_life_expectancy.loc[START_YEAR:END_YEAR]\n",
    "df_brazil_life_expectancy"
   ]
  },
  {
   "cell_type": "markdown",
   "id": "4fcc681c",
   "metadata": {},
   "source": [
    "### Caracterização da amostra"
   ]
  },
  {
   "cell_type": "markdown",
   "id": "e136b0af",
   "metadata": {},
   "source": [
    "#### Média ($\\bar{x}$)\n",
    "\n",
    "A média de uma amostra é dada pela @eq-media.\n",
    "\n",
    "$$\n",
    "\\bar{x} = \\dfrac{1}{n} \\sum_{i=1}^{n} x_{i}\n",
    "$$ {#eq-media}"
   ]
  },
  {
   "cell_type": "markdown",
   "id": "d9cc9ecd",
   "metadata": {},
   "source": [
    "No trecho de código abaixo é apresentada uma possível implementação para obter a média dos dados selecionados."
   ]
  },
  {
   "cell_type": "code",
   "execution_count": 36,
   "id": "2c05457e",
   "metadata": {},
   "outputs": [
    {
     "data": {
      "text/plain": [
       "68.12200000000001"
      ]
     },
     "execution_count": 36,
     "metadata": {},
     "output_type": "execute_result"
    }
   ],
   "source": [
    "# | code-fold: false\n",
    "mean = df_brazil_life_expectancy[\"Brazil Life Expectancy\"].sum() / len(\n",
    "    df_brazil_life_expectancy\n",
    ")\n",
    "mean"
   ]
  },
  {
   "cell_type": "markdown",
   "id": "cf08d5d8",
   "metadata": {},
   "source": [
    "Portanto, a média da amostra selecionada é de **68,122 anos**."
   ]
  },
  {
   "cell_type": "markdown",
   "id": "2d281e4b",
   "metadata": {},
   "source": [
    "#### Variância ($s^{2}$)\n",
    "\n",
    "A variância de uma amostra pode ser calculada pela @eq-variancia.\n",
    "\n",
    "$$\n",
    "s^{2} = \\dfrac{1}{n-1} \\sum_{i=1}^{n} \\left ( x_{i} - \\bar{x} \\right)^{2}\n",
    "$$ {#eq-variancia}"
   ]
  },
  {
   "cell_type": "markdown",
   "id": "a7368788",
   "metadata": {},
   "source": [
    "No trecho de código abaixo é apresentada uma possível implementação para obter a variância da amostra."
   ]
  },
  {
   "cell_type": "code",
   "execution_count": 4,
   "id": "3527dc99",
   "metadata": {},
   "outputs": [
    {
     "data": {
      "text/plain": [
       "32.15522040816326"
      ]
     },
     "execution_count": 4,
     "metadata": {},
     "output_type": "execute_result"
    }
   ],
   "source": [
    "# | code-fold: false\n",
    "variance = df_brazil_life_expectancy[\"Brazil Life Expectancy\"].apply(\n",
    "    lambda x: (x - mean) ** 2\n",
    ").sum() / (len(df_brazil_life_expectancy) - 1)\n",
    "variance"
   ]
  },
  {
   "cell_type": "markdown",
   "id": "4b5ae751",
   "metadata": {},
   "source": [
    "Portanto, a variância da amostra é de **32,155 anos²**."
   ]
  },
  {
   "cell_type": "markdown",
   "id": "9cadc4f0",
   "metadata": {},
   "source": [
    "#### Desvio padrão ($s$)\n",
    "\n",
    "O desvio padrão da amostra é calculado por meio da extração da raiz quadrada da variância, como expresso pela @eq-std.\n",
    "\n",
    "$$\n",
    "s = \\sqrt{\\dfrac{1}{n-1} \\sum_{i=1}^{n} \\left ( x_{i} - \\bar{x} \\right)^{2}}\n",
    "$$ {#eq-std}"
   ]
  },
  {
   "cell_type": "markdown",
   "id": "28f64646",
   "metadata": {},
   "source": [
    "Calculando o desvio padrão"
   ]
  },
  {
   "cell_type": "code",
   "execution_count": 5,
   "id": "5c6e1f90",
   "metadata": {},
   "outputs": [
    {
     "data": {
      "text/plain": [
       "5.670557327826186"
      ]
     },
     "execution_count": 5,
     "metadata": {},
     "output_type": "execute_result"
    }
   ],
   "source": [
    "#| code-fold: false\n",
    "standard_deviation = variance ** 0.5\n",
    "standard_deviation"
   ]
  },
  {
   "cell_type": "markdown",
   "id": "08859960",
   "metadata": {},
   "source": [
    "Logo, o desvio padrão da amostra é de **5,6706 anos**."
   ]
  },
  {
   "cell_type": "markdown",
   "id": "4f8f8a64",
   "metadata": {},
   "source": [
    "#### Coeficiente de variação ($COV$)\n",
    "\n",
    "O coeficiente de variação é calculado por meio da @eq-cov.\n",
    "\n",
    "$$\n",
    "COV = \\dfrac{s}{\\bar{x}}\n",
    "$$ {#eq-cov}"
   ]
  },
  {
   "cell_type": "code",
   "execution_count": 6,
   "id": "86757e3b",
   "metadata": {},
   "outputs": [
    {
     "data": {
      "text/plain": [
       "0.0832412044247994"
      ]
     },
     "execution_count": 6,
     "metadata": {},
     "output_type": "execute_result"
    }
   ],
   "source": [
    "#| code-fold: false\n",
    "COV = standard_deviation / mean\n",
    "COV"
   ]
  },
  {
   "cell_type": "markdown",
   "id": "482e7232",
   "metadata": {},
   "source": [
    "Portanto, o coeficiente de variação da amostra é de **8,324%**."
   ]
  },
  {
   "cell_type": "markdown",
   "id": "14f44136",
   "metadata": {},
   "source": [
    "#### Máximo e mínimo\n",
    "\n",
    "Os anos em que se observaram as máximas e mínimas expectativas de vida são facilmente obtidos com a biblioteca `pandas`, conforme é mostrado abaixo."
   ]
  },
  {
   "cell_type": "code",
   "execution_count": 37,
   "id": "28dfc37a",
   "metadata": {},
   "outputs": [
    {
     "data": {
      "text/html": [
       "<div>\n",
       "<style scoped>\n",
       "    .dataframe tbody tr th:only-of-type {\n",
       "        vertical-align: middle;\n",
       "    }\n",
       "\n",
       "    .dataframe tbody tr th {\n",
       "        vertical-align: top;\n",
       "    }\n",
       "\n",
       "    .dataframe thead th {\n",
       "        text-align: right;\n",
       "    }\n",
       "</style>\n",
       "<table border=\"1\" class=\"dataframe\">\n",
       "  <thead>\n",
       "    <tr style=\"text-align: right;\">\n",
       "      <th></th>\n",
       "      <th>Brazil Life Expectancy</th>\n",
       "    </tr>\n",
       "    <tr>\n",
       "      <th>Year</th>\n",
       "      <th></th>\n",
       "    </tr>\n",
       "  </thead>\n",
       "  <tbody>\n",
       "    <tr>\n",
       "      <th>2019</th>\n",
       "      <td>75.8</td>\n",
       "    </tr>\n",
       "  </tbody>\n",
       "</table>\n",
       "</div>"
      ],
      "text/plain": [
       "      Brazil Life Expectancy\n",
       "Year                        \n",
       "2019                    75.8"
      ]
     },
     "execution_count": 37,
     "metadata": {},
     "output_type": "execute_result"
    }
   ],
   "source": [
    "# | code-fold: false\n",
    "max_expectancy = df_brazil_life_expectancy[\n",
    "    df_brazil_life_expectancy[\"Brazil Life Expectancy\"]\n",
    "    == df_brazil_life_expectancy[\"Brazil Life Expectancy\"].max()\n",
    "]\n",
    "max_expectancy"
   ]
  },
  {
   "cell_type": "code",
   "execution_count": 38,
   "id": "4d81e952",
   "metadata": {},
   "outputs": [
    {
     "data": {
      "text/html": [
       "<div>\n",
       "<style scoped>\n",
       "    .dataframe tbody tr th:only-of-type {\n",
       "        vertical-align: middle;\n",
       "    }\n",
       "\n",
       "    .dataframe tbody tr th {\n",
       "        vertical-align: top;\n",
       "    }\n",
       "\n",
       "    .dataframe thead th {\n",
       "        text-align: right;\n",
       "    }\n",
       "</style>\n",
       "<table border=\"1\" class=\"dataframe\">\n",
       "  <thead>\n",
       "    <tr style=\"text-align: right;\">\n",
       "      <th></th>\n",
       "      <th>Brazil Life Expectancy</th>\n",
       "    </tr>\n",
       "    <tr>\n",
       "      <th>Year</th>\n",
       "      <th></th>\n",
       "    </tr>\n",
       "  </thead>\n",
       "  <tbody>\n",
       "    <tr>\n",
       "      <th>1970</th>\n",
       "      <td>56.9</td>\n",
       "    </tr>\n",
       "  </tbody>\n",
       "</table>\n",
       "</div>"
      ],
      "text/plain": [
       "      Brazil Life Expectancy\n",
       "Year                        \n",
       "1970                    56.9"
      ]
     },
     "execution_count": 38,
     "metadata": {},
     "output_type": "execute_result"
    }
   ],
   "source": [
    "# | code-fold: false\n",
    "min_expectancy = df_brazil_life_expectancy[\n",
    "    df_brazil_life_expectancy[\"Brazil Life Expectancy\"]\n",
    "    == df_brazil_life_expectancy[\"Brazil Life Expectancy\"].min()\n",
    "]\n",
    "min_expectancy"
   ]
  },
  {
   "cell_type": "markdown",
   "id": "245ce492",
   "metadata": {},
   "source": [
    "#### Quantis\n",
    "\n",
    "Os quantis são pontos que dividem os dados ordenados em subconjuntos de dados de dimensão igual.\n",
    "\n",
    "Alguns quantis específicos são denominados de forma especial, como os 100-quantis, conhecidos como **percentis**.\n",
    "\n",
    "Os percentis 25, 50 e 75 são chamados **quartis** e o percentil 50 é também conhecido como a **mediana** da amostra.\n",
    "\n",
    "O trecho de código abaixo contém uma implementação para o cálculo da mediana da amostra."
   ]
  },
  {
   "cell_type": "code",
   "execution_count": 9,
   "id": "cb848c45",
   "metadata": {},
   "outputs": [
    {
     "data": {
      "text/plain": [
       "69.0"
      ]
     },
     "execution_count": 9,
     "metadata": {},
     "output_type": "execute_result"
    }
   ],
   "source": [
    "#| code-fold: false\n",
    "def calculate_median(data: pd.Series):\n",
    "    data = data.sort_values()\n",
    "    n = len(data)\n",
    "    if n % 2 == 0:\n",
    "        return (data.iloc[n // 2] + data.iloc[n // 2 - 1]) / 2\n",
    "    else:\n",
    "        return data.iloc[n // 2]\n",
    "\n",
    "calculate_median(df_brazil_life_expectancy[\"Brazil Life Expectancy\"])"
   ]
  },
  {
   "cell_type": "markdown",
   "id": "3c083b76",
   "metadata": {},
   "source": [
    "Portanto, a mediana é de **69,0 anos**."
   ]
  },
  {
   "cell_type": "markdown",
   "id": "65fde0d0",
   "metadata": {},
   "source": [
    "A biblioteca `pandas` permite obter os valores dos quantis desejados de forma prática utilizando o método `quantile()`, como é mostrado abaixo."
   ]
  },
  {
   "cell_type": "code",
   "execution_count": 10,
   "id": "67cd78e2",
   "metadata": {},
   "outputs": [
    {
     "data": {
      "text/plain": [
       "63.949999999999996"
      ]
     },
     "execution_count": 10,
     "metadata": {},
     "output_type": "execute_result"
    }
   ],
   "source": [
    "#| code-fold: false\n",
    "df_brazil_life_expectancy[\"Brazil Life Expectancy\"].quantile(0.25)"
   ]
  },
  {
   "cell_type": "code",
   "execution_count": 11,
   "id": "51b29564",
   "metadata": {},
   "outputs": [
    {
     "data": {
      "text/plain": [
       "69.0"
      ]
     },
     "execution_count": 11,
     "metadata": {},
     "output_type": "execute_result"
    }
   ],
   "source": [
    "#| code-fold: false\n",
    "df_brazil_life_expectancy[\"Brazil Life Expectancy\"].quantile(0.50) # median"
   ]
  },
  {
   "cell_type": "code",
   "execution_count": 12,
   "id": "15cce9df",
   "metadata": {},
   "outputs": [
    {
     "data": {
      "text/plain": [
       "73.25"
      ]
     },
     "execution_count": 12,
     "metadata": {},
     "output_type": "execute_result"
    }
   ],
   "source": [
    "#| code-fold: false\n",
    "df_brazil_life_expectancy[\"Brazil Life Expectancy\"].quantile(0.75)"
   ]
  },
  {
   "cell_type": "markdown",
   "id": "14973707",
   "metadata": {},
   "source": [
    "Alguns dos parâmetros da amostra podem ser obtidos também de forma resumida e imediata com o uso do método `describe()`."
   ]
  },
  {
   "cell_type": "code",
   "execution_count": 13,
   "id": "7bd70841",
   "metadata": {},
   "outputs": [
    {
     "data": {
      "text/html": [
       "<div>\n",
       "<style scoped>\n",
       "    .dataframe tbody tr th:only-of-type {\n",
       "        vertical-align: middle;\n",
       "    }\n",
       "\n",
       "    .dataframe tbody tr th {\n",
       "        vertical-align: top;\n",
       "    }\n",
       "\n",
       "    .dataframe thead th {\n",
       "        text-align: right;\n",
       "    }\n",
       "</style>\n",
       "<table border=\"1\" class=\"dataframe\">\n",
       "  <thead>\n",
       "    <tr style=\"text-align: right;\">\n",
       "      <th></th>\n",
       "      <th>Brazil Life Expectancy</th>\n",
       "    </tr>\n",
       "  </thead>\n",
       "  <tbody>\n",
       "    <tr>\n",
       "      <th>count</th>\n",
       "      <td>50.000000</td>\n",
       "    </tr>\n",
       "    <tr>\n",
       "      <th>mean</th>\n",
       "      <td>68.122000</td>\n",
       "    </tr>\n",
       "    <tr>\n",
       "      <th>std</th>\n",
       "      <td>5.670557</td>\n",
       "    </tr>\n",
       "    <tr>\n",
       "      <th>min</th>\n",
       "      <td>56.900000</td>\n",
       "    </tr>\n",
       "    <tr>\n",
       "      <th>25%</th>\n",
       "      <td>63.950000</td>\n",
       "    </tr>\n",
       "    <tr>\n",
       "      <th>50%</th>\n",
       "      <td>69.000000</td>\n",
       "    </tr>\n",
       "    <tr>\n",
       "      <th>75%</th>\n",
       "      <td>73.250000</td>\n",
       "    </tr>\n",
       "    <tr>\n",
       "      <th>max</th>\n",
       "      <td>75.800000</td>\n",
       "    </tr>\n",
       "  </tbody>\n",
       "</table>\n",
       "</div>"
      ],
      "text/plain": [
       "       Brazil Life Expectancy\n",
       "count               50.000000\n",
       "mean                68.122000\n",
       "std                  5.670557\n",
       "min                 56.900000\n",
       "25%                 63.950000\n",
       "50%                 69.000000\n",
       "75%                 73.250000\n",
       "max                 75.800000"
      ]
     },
     "execution_count": 13,
     "metadata": {},
     "output_type": "execute_result"
    }
   ],
   "source": [
    "# | code-fold: false\n",
    "df_brazil_life_expectancy.describe()"
   ]
  },
  {
   "cell_type": "markdown",
   "id": "5b5e22e1",
   "metadata": {},
   "source": [
    "### Visualização gráfica"
   ]
  },
  {
   "cell_type": "markdown",
   "id": "ae245a6d",
   "metadata": {},
   "source": [
    "#### Box plot\n",
    "\n",
    "O *box plot* é uma representação gráfica que utiliza os quartis e os valores mínimo e máximo para representar a distribuição de dados quantitativos.\n",
    "\n",
    "Para a amostra que estamos trabalhando, um *box plot* é apresentado na @fig-box-plot. Na construção desse e de outros gráficos neste trabalho, a biblioteca utilizada foi a [Seaborn](https://seaborn.pydata.org/)."
   ]
  },
  {
   "cell_type": "code",
   "execution_count": 14,
   "id": "55b6765e",
   "metadata": {},
   "outputs": [
    {
     "data": {
      "image/png": "[encoded data removed]",
      "text/plain": [
       "<Figure size 640x480 with 1 Axes>"
      ]
     },
     "metadata": {},
     "output_type": "display_data"
    }
   ],
   "source": [
    "#| label: fig-box-plot\n",
    "#| fig-cap: \"Box plot da expectativa de vida no Brasil.\"\n",
    "\n",
    "import seaborn as sns\n",
    "\n",
    "fig = sns.boxplot(x=df_brazil_life_expectancy[\"Brazil Life Expectancy\"])\n",
    "fig.set_xlabel(\"Expectativa de vida (anos)\");"
   ]
  },
  {
   "cell_type": "markdown",
   "metadata": {},
   "source": [
    "#### Violin plot"
   ]
  },
  {
   "cell_type": "markdown",
   "metadata": {},
   "source": [
    "O *violin plot* é uma junção do *box plot* com um gráfico chamado *kernel density plot* e é frequentemente utilizado para visualizar a distribuição de dados de uma amostra.\n",
    "\n",
    "Na @fig-violin-plot é possível observar esse gráfico para os dados em que estamos trabalhando."
   ]
  },
  {
   "cell_type": "code",
   "execution_count": 15,
   "metadata": {},
   "outputs": [
    {
     "data": {
      "image/png": "[encoded data removed]",
      "text/plain": [
       "<Figure size 640x480 with 1 Axes>"
      ]
     },
     "metadata": {},
     "output_type": "display_data"
    }
   ],
   "source": [
    "#| label: fig-violin-plot\n",
    "#| fig-cap: \"Violin plot da expectativa de vida no Brasil.\"\n",
    "\n",
    "fig = sns.violinplot(x=df_brazil_life_expectancy[\"Brazil Life Expectancy\"])\n",
    "fig.set_xlabel(\"Expectativa de vida (anos)\");"
   ]
  },
  {
   "cell_type": "markdown",
   "id": "f330708e",
   "metadata": {},
   "source": [
    "#### Histograma de ocorrências\n",
    "\n",
    "Como temos uma amostra de tamanho maior do que 30 valores, para calcular a quantidade de intervalos para o histograma ($k$), podemos utilizar a fórmula de Sturges (@eq-sturges).\n",
    "\n",
    "$$\n",
    "k = \\log_{2} \\left ( n \\right ) + 1\n",
    "$$ {#eq-sturges}\n",
    "\n",
    "em que $n$ é o tamanho da amostra. Logo, utilizando a biblioteca [NumPy](https://numpy.org/) para calcular o logaritmo, obtemos:"
   ]
  },
  {
   "cell_type": "code",
   "execution_count": 16,
   "id": "ef7bf8d6",
   "metadata": {},
   "outputs": [
    {
     "data": {
      "text/plain": [
       "6.643856189774724"
      ]
     },
     "execution_count": 16,
     "metadata": {},
     "output_type": "execute_result"
    }
   ],
   "source": [
    "#| code-fold: false\n",
    "\n",
    "import numpy as np\n",
    "\n",
    "k = np.log2(len(df_brazil_life_expectancy)) + 1\n",
    "k"
   ]
  },
  {
   "cell_type": "markdown",
   "id": "292bb6dc",
   "metadata": {},
   "source": [
    "Adotaremos então 7 intervalos para construirmos os histogramas dos dados."
   ]
  },
  {
   "cell_type": "markdown",
   "id": "33939d24",
   "metadata": {},
   "source": [
    "Um histograma de ocorrências dos dados é apresentado na @fig-hist-ocorrencias."
   ]
  },
  {
   "cell_type": "code",
   "execution_count": 40,
   "id": "0c0151e9",
   "metadata": {},
   "outputs": [
    {
     "data": {
      "image/png": "[encoded data removed]",
      "text/plain": [
       "<Figure size 640x480 with 1 Axes>"
      ]
     },
     "metadata": {},
     "output_type": "display_data"
    }
   ],
   "source": [
    "# | label: fig-hist-ocorrencias\n",
    "# | fig-cap: \"Histograma de ocorrências da expectativa de vida no Brasil.\"\n",
    "\n",
    "N_BINS = 7\n",
    "\n",
    "fig = sns.histplot(\n",
    "    data=df_brazil_life_expectancy, x=\"Brazil Life Expectancy\", bins=N_BINS\n",
    ")\n",
    "fig.set_xlabel(\"Expectativa de vida (anos)\")\n",
    "fig.set_ylabel(\"Ocorrências\");"
   ]
  },
  {
   "cell_type": "markdown",
   "id": "648bcf52",
   "metadata": {},
   "source": [
    "#### Histograma de frequências relativas\n",
    "\n",
    "Um histograma de frequências relativas é apresentado na @fig-hist-frelativas."
   ]
  },
  {
   "cell_type": "code",
   "execution_count": 41,
   "id": "58ad74e4",
   "metadata": {},
   "outputs": [
    {
     "data": {
      "image/png": "[encoded data removed]",
      "text/plain": [
       "<Figure size 640x480 with 1 Axes>"
      ]
     },
     "metadata": {},
     "output_type": "display_data"
    }
   ],
   "source": [
    "# | label: fig-hist-frelativas\n",
    "# | fig-cap: \"Histograma de frequências relativas da expectativa de vida no Brasil.\"\n",
    "\n",
    "fig = sns.histplot(\n",
    "    data=df_brazil_life_expectancy,\n",
    "    x=\"Brazil Life Expectancy\",\n",
    "    bins=N_BINS,\n",
    "    stat=\"probability\",\n",
    ")\n",
    "fig.set_xlabel(\"Expectativa de vida (anos)\")\n",
    "fig.set_ylabel(\"Frequência relativa\");"
   ]
  },
  {
   "cell_type": "markdown",
   "id": "0a8c2367",
   "metadata": {},
   "source": [
    "#### Histograma de densidade de probabilidade\n",
    "\n",
    "Um histograma de densidade de probabilidade é apresentado na @fig-hist-density-prob."
   ]
  },
  {
   "cell_type": "code",
   "execution_count": 19,
   "id": "9b3d483d",
   "metadata": {},
   "outputs": [
    {
     "data": {
      "image/png": "[encoded data removed]",
      "text/plain": [
       "<Figure size 640x480 with 1 Axes>"
      ]
     },
     "metadata": {},
     "output_type": "display_data"
    }
   ],
   "source": [
    "#| label: fig-hist-density-prob\n",
    "#| fig-cap: \"Histograma de densidade de probabilidade da expectativa de vida no Brasil.\"\n",
    "\n",
    "fig = sns.histplot(data=df_brazil_life_expectancy, x=\"Brazil Life Expectancy\", bins=N_BINS, stat=\"density\")\n",
    "fig.set_xlabel(\"Expectativa de vida (anos)\")\n",
    "fig.set_ylabel(\"Densidade de probabilidade\");"
   ]
  },
  {
   "cell_type": "markdown",
   "id": "718e8277",
   "metadata": {},
   "source": [
    "#### Histograma cumulativo das observações\n",
    "\n",
    "Um histograma cumulativo das observações é apresentado na @fig-hist-cumulativo-obs."
   ]
  },
  {
   "cell_type": "code",
   "execution_count": 20,
   "id": "ab6c5656",
   "metadata": {},
   "outputs": [
    {
     "data": {
      "image/png": "[encoded data removed]",
      "text/plain": [
       "<Figure size 640x480 with 1 Axes>"
      ]
     },
     "metadata": {},
     "output_type": "display_data"
    }
   ],
   "source": [
    "#| label: fig-hist-cumulativo-obs\n",
    "#| fig-cap: \"Histograma cumulativo das observações da expectativa de vida no Brasil.\"\n",
    "\n",
    "fig = sns.ecdfplot(data=df_brazil_life_expectancy, x=\"Brazil Life Expectancy\")\n",
    "fig.set_ylim(-0.05, 1.05)\n",
    "fig.set_xlabel(\"Expectativa de vida (anos)\")\n",
    "fig.set_ylabel(\"Função cumulativa\");\n",
    "fig.grid(True, color=\"gray\", alpha=0.15)\n"
   ]
  },
  {
   "cell_type": "markdown",
   "id": "56f423cf",
   "metadata": {},
   "source": [
    "## Item b)"
   ]
  },
  {
   "cell_type": "markdown",
   "metadata": {},
   "source": [
    "Para implementar o teste de Kolmogorov-Smirnov, precisaremos da função de distribuição acumulada empírica ($ECDF$) dos dados trabalhados.\n",
    "\n",
    "Para obtê-la, iremos fazer uso da biblioteca [SciPy](https://scipy.org/), que possui um módulo com diversas funções estatísticas. No trecho de código abaixo, é feita a implementação para obter a função de distribuição acumulada empírica."
   ]
  },
  {
   "cell_type": "code",
   "execution_count": 21,
   "metadata": {},
   "outputs": [],
   "source": [
    "#| code-fold: false\n",
    "import scipy.stats as ss\n",
    "\n",
    "ECDF = ss.ecdf(df_brazil_life_expectancy[\"Brazil Life Expectancy\"]).cdf"
   ]
  },
  {
   "cell_type": "markdown",
   "metadata": {},
   "source": [
    "O teste de Kolmogorov-Smirnov calcula a máxima distância entre a função cumulativa de probabilidade do modelo hipotético ($F_{X}$) parametrizado e o histograma cumulativo da amostra dado pela ($ECDF$).\n",
    "\n",
    "Esse teste é matematicamente expresso pela @eq-kstest.\n",
    "\n",
    "$$\n",
    "ks = \\max \\left \\{ \\left | ECDF_{i} - F_{X}(x_{i}) \\right | \\right \\}\n",
    "$$ {#eq-kstest}"
   ]
  },
  {
   "cell_type": "markdown",
   "metadata": {},
   "source": [
    "No trecho de código abaixo são apresentadas funções que automatizam os cálculos para o teste de Kolmogorov-Smirnov e a geração de gráficos comparativos das funções de distribuição acumulada.\n",
    "\n",
    "Para realizar a composição de gráficos, a biblioteca [Matplotlib](https://matplotlib.org/) foi utilizada."
   ]
  },
  {
   "cell_type": "code",
   "execution_count": 22,
   "metadata": {},
   "outputs": [],
   "source": [
    "# | code-fold: false\n",
    "\n",
    "import matplotlib.pyplot as plt\n",
    "\n",
    "\n",
    "def calculate_ks_test(data: pd.Series, ecdf, distribution, loc, scale):\n",
    "    min_value = data.min()\n",
    "    max_value = data.max()\n",
    "    step = (max_value - min_value) / 1e5\n",
    "\n",
    "    x_range = np.arange(min_value, max_value + step, step)\n",
    "\n",
    "    ks_test_value = 0\n",
    "    x_ks_test = min_value\n",
    "\n",
    "    for xi in x_range:\n",
    "        ks = abs(ecdf.evaluate(xi) - distribution.cdf(xi, loc=loc, scale=scale))\n",
    "        if ks > ks_test_value:\n",
    "            ks_test_value = ks\n",
    "            x_ks_test = xi\n",
    "\n",
    "    return ks_test_value, x_ks_test\n",
    "\n",
    "\n",
    "def plot_ks_test(\n",
    "    ecdf, distribution, loc, scale, x_ks_value, ks_test_value, save=False, xytext=None\n",
    "):\n",
    "    fig, ax = plt.subplots()\n",
    "    x_plot = np.linspace(\n",
    "        distribution.ppf(0.001, loc=loc, scale=scale),\n",
    "        distribution.ppf(0.999, loc=loc, scale=scale),\n",
    "        1000,\n",
    "    )\n",
    "    ax.plot(x_plot, distribution.cdf(x_plot, loc=loc, scale=scale), label=\"CDF\")\n",
    "    ecdf.plot(ax=ax, label=\"ECDF (Empírica)\")\n",
    "    ax.plot(\n",
    "        [x_ks_value, x_ks_value],\n",
    "        [\n",
    "            distribution.cdf(x_ks_value, loc=loc, scale=scale),\n",
    "            ecdf.evaluate(x_ks_value),\n",
    "        ],\n",
    "        \"k+-\",\n",
    "    )\n",
    "    ax.set_xlabel(\"Expectativa de vida (anos)\")\n",
    "    ax.set_ylabel(\"Função cumulativa\")\n",
    "    ax.legend(loc=\"best\")\n",
    "    ax.annotate(\n",
    "        f\"ks = {ks_test_value:.5f}\",\n",
    "        (x_ks_value, ecdf.evaluate(x_ks_value) + 0.05),\n",
    "        xytext=(x_ks_value + 1, ecdf.evaluate(x_ks_value) + 0.05)\n",
    "        if xytext is None\n",
    "        else xytext,\n",
    "    )\n",
    "    ax.grid(True, color=\"gray\", alpha=0.15)\n",
    "    if save:\n",
    "        fig.savefig(\"ks-test.pdf\", bbox_inches=\"tight\")"
   ]
  },
  {
   "cell_type": "markdown",
   "metadata": {},
   "source": [
    "### Modelo Gaussiano"
   ]
  },
  {
   "cell_type": "markdown",
   "metadata": {},
   "source": [
    "Para o modelo Gaussiano, as estimativas de $E(X)$ e de $Var(X)$ são a média amostral ($\\bar{x}$) e variância amostral ($s^{2}$). Os parâmetros `loc` e `scale` utilizados para essa distribuição são a média amostral e desvio padrão amostral.\n",
    "\n",
    "O trecho de código para efetuar os cálculos do teste de Kolmogorov-Smirnov é apresentado abaixo."
   ]
  },
  {
   "cell_type": "code",
   "execution_count": 23,
   "metadata": {},
   "outputs": [
    {
     "data": {
      "text/plain": [
       "(0.10636323684719218, 71.1999289999156)"
      ]
     },
     "execution_count": 23,
     "metadata": {},
     "output_type": "execute_result"
    }
   ],
   "source": [
    "# | code-fold: false\n",
    "\n",
    "ks_test_value_gauss, x_ks_test_gauss = calculate_ks_test(\n",
    "    df_brazil_life_expectancy[\"Brazil Life Expectancy\"],\n",
    "    ECDF,\n",
    "    ss.norm,\n",
    "    mean,\n",
    "    standard_deviation,\n",
    ")\n",
    "ks_test_value_gauss, x_ks_test_gauss"
   ]
  },
  {
   "cell_type": "markdown",
   "metadata": {},
   "source": [
    "Portanto, o valor do teste de Kolmogorov-Smirnov obtido pela implementação desenvolvida foi **0,10636** e foi encontrado para o valor de **71,2 anos**.\n",
    "\n",
    "Na @fig-ks-gauss é apresentada uma representação gráfica do teste, com a indicação do valor obtido e posição no gráfico."
   ]
  },
  {
   "cell_type": "code",
   "execution_count": 24,
   "metadata": {},
   "outputs": [
    {
     "data": {
      "image/png": "[encoded data removed]",
      "text/plain": [
       "<Figure size 640x480 with 1 Axes>"
      ]
     },
     "metadata": {},
     "output_type": "display_data"
    }
   ],
   "source": [
    "# | label: fig-ks-gauss\n",
    "# | fig-cap: \"Teste de Kolmogorov-Smirnov para a distribuição normal.\"\n",
    "\n",
    "plot_ks_test(\n",
    "    ECDF, ss.norm, mean, standard_deviation, x_ks_test_gauss, ks_test_value_gauss\n",
    ")"
   ]
  },
  {
   "cell_type": "markdown",
   "metadata": {},
   "source": [
    "Para validar o resultado obtido, foi realizado no trecho de código abaixo o teste de Kolmogorov-Smirnov por meio da função `kstest` da biblioteca [SciPy](https://scipy.org/)."
   ]
  },
  {
   "cell_type": "code",
   "execution_count": 25,
   "metadata": {},
   "outputs": [
    {
     "data": {
      "text/plain": [
       "KstestResult(statistic=0.10636754772067303, pvalue=0.5863628686773552, statistic_location=71.2, statistic_sign=-1)"
      ]
     },
     "execution_count": 25,
     "metadata": {},
     "output_type": "execute_result"
    }
   ],
   "source": [
    "# | code-fold: false\n",
    "ks_res_gauss = ss.kstest(\n",
    "    df_brazil_life_expectancy[\"Brazil Life Expectancy\"],\n",
    "    \"norm\",\n",
    "    args=(mean, standard_deviation),\n",
    ")\n",
    "ks_res_gauss"
   ]
  },
  {
   "cell_type": "markdown",
   "metadata": {},
   "source": [
    "Na tabela abaixo é apresentado um resumo dos resultados."
   ]
  },
  {
   "cell_type": "code",
   "execution_count": 26,
   "metadata": {},
   "outputs": [
    {
     "data": {
      "text/html": [
       "<div>\n",
       "<style scoped>\n",
       "    .dataframe tbody tr th:only-of-type {\n",
       "        vertical-align: middle;\n",
       "    }\n",
       "\n",
       "    .dataframe tbody tr th {\n",
       "        vertical-align: top;\n",
       "    }\n",
       "\n",
       "    .dataframe thead th {\n",
       "        text-align: right;\n",
       "    }\n",
       "</style>\n",
       "<table border=\"1\" class=\"dataframe\">\n",
       "  <thead>\n",
       "    <tr style=\"text-align: right;\">\n",
       "      <th></th>\n",
       "      <th>ks</th>\n",
       "      <th>Location</th>\n",
       "    </tr>\n",
       "  </thead>\n",
       "  <tbody>\n",
       "    <tr>\n",
       "      <th>Manual</th>\n",
       "      <td>0.106363</td>\n",
       "      <td>71.199929</td>\n",
       "    </tr>\n",
       "    <tr>\n",
       "      <th>Scipy</th>\n",
       "      <td>0.106368</td>\n",
       "      <td>71.200000</td>\n",
       "    </tr>\n",
       "  </tbody>\n",
       "</table>\n",
       "</div>"
      ],
      "text/plain": [
       "              ks   Location\n",
       "Manual  0.106363  71.199929\n",
       "Scipy   0.106368  71.200000"
      ]
     },
     "execution_count": 26,
     "metadata": {},
     "output_type": "execute_result"
    }
   ],
   "source": [
    "df_ks_gauss = pd.DataFrame(\n",
    "    [\n",
    "        {\"ks\": ks_test_value_gauss, \"Location\": x_ks_test_gauss},\n",
    "        {\"ks\": ks_res_gauss.statistic, \"Location\": ks_res_gauss.statistic_location},\n",
    "    ]\n",
    ")\n",
    "df_ks_gauss.index = [\"Manual\", \"Scipy\"]\n",
    "df_ks_gauss"
   ]
  },
  {
   "cell_type": "markdown",
   "metadata": {},
   "source": [
    "Portanto, nota-se que o resultado obtido pela implementação apresentada foi muito próximo do resultado da função `kstest`."
   ]
  },
  {
   "cell_type": "markdown",
   "metadata": {},
   "source": [
    "### Distribuição de Gumbel (inclinada para a esquerda)"
   ]
  },
  {
   "cell_type": "markdown",
   "metadata": {},
   "source": [
    "Para obter os parâmetros `loc` e `scale` para essa distribuição, utilizaremos o método `fit()`."
   ]
  },
  {
   "cell_type": "code",
   "execution_count": 27,
   "metadata": {},
   "outputs": [
    {
     "data": {
      "text/plain": [
       "(70.79722473205372, 4.545126232797063)"
      ]
     },
     "execution_count": 27,
     "metadata": {},
     "output_type": "execute_result"
    }
   ],
   "source": [
    "# | code-fold: false\n",
    "\n",
    "loc_gumbel_l, scale_gumbel_l = ss.gumbel_l.fit(\n",
    "    df_brazil_life_expectancy[\"Brazil Life Expectancy\"]\n",
    ")\n",
    "loc_gumbel_l, scale_gumbel_l"
   ]
  },
  {
   "cell_type": "markdown",
   "metadata": {},
   "source": [
    "Tendo os parâmetros, utilizaremos nossa função para calcular o valor do teste de Kolmogorov-Smirnov."
   ]
  },
  {
   "cell_type": "code",
   "execution_count": 28,
   "metadata": {},
   "outputs": [
    {
     "data": {
      "text/plain": [
       "(0.09432013451387156, 64.60004899995455)"
      ]
     },
     "execution_count": 28,
     "metadata": {},
     "output_type": "execute_result"
    }
   ],
   "source": [
    "# | code-fold: false\n",
    "\n",
    "ks_test_value_gumbel_l, x_ks_test_gumbel_l = calculate_ks_test(\n",
    "    df_brazil_life_expectancy[\"Brazil Life Expectancy\"],\n",
    "    ECDF,\n",
    "    ss.gumbel_l,\n",
    "    loc_gumbel_l,\n",
    "    scale_gumbel_l,\n",
    ")\n",
    "ks_test_value_gumbel_l, x_ks_test_gumbel_l"
   ]
  },
  {
   "cell_type": "markdown",
   "metadata": {},
   "source": [
    "Portanto, o valor da estatística KS para essa distribuição foi **0,09432** para o valor de **64,6 anos**.\n",
    "\n",
    "Na @fig-ks-gumbel-l é apresentada uma representação gráfica do teste, com a indicação do valor obtido e posição no gráfico."
   ]
  },
  {
   "cell_type": "code",
   "execution_count": 29,
   "metadata": {},
   "outputs": [
    {
     "data": {
      "image/png": "[encoded data removed]",
      "text/plain": [
       "<Figure size 640x480 with 1 Axes>"
      ]
     },
     "metadata": {},
     "output_type": "display_data"
    }
   ],
   "source": [
    "# | label: fig-ks-gumbel-l\n",
    "# | fig-cap: \"Teste de Kolmogorov-Smirnov para a distribuição Gumbel à esquerda.\"\n",
    "\n",
    "plot_ks_test(\n",
    "    ECDF,\n",
    "    ss.gumbel_l,\n",
    "    loc_gumbel_l,\n",
    "    scale_gumbel_l,\n",
    "    x_ks_test_gumbel_l,\n",
    "    ks_test_value_gumbel_l,\n",
    "    xytext=(x_ks_test_gumbel_l + 1.5, ECDF.evaluate(x_ks_test_gumbel_l) - 0.05),\n",
    ")"
   ]
  },
  {
   "cell_type": "markdown",
   "metadata": {},
   "source": [
    "Novamente, para validação, utilizaremos a função `kstest`:"
   ]
  },
  {
   "cell_type": "code",
   "execution_count": 30,
   "metadata": {},
   "outputs": [
    {
     "data": {
      "text/plain": [
       "KstestResult(statistic=0.09432226961248374, pvalue=0.7297138491145043, statistic_location=64.6, statistic_sign=1)"
      ]
     },
     "execution_count": 30,
     "metadata": {},
     "output_type": "execute_result"
    }
   ],
   "source": [
    "# | code-fold: false\n",
    "\n",
    "ks_res_gumbel_l = ss.kstest(\n",
    "    df_brazil_life_expectancy[\"Brazil Life Expectancy\"],\n",
    "    \"gumbel_l\",\n",
    "    args=(loc_gumbel_l, scale_gumbel_l),\n",
    ")\n",
    "ks_res_gumbel_l"
   ]
  },
  {
   "cell_type": "markdown",
   "metadata": {},
   "source": [
    "A tabela abaixo contém o resumo dos resultados."
   ]
  },
  {
   "cell_type": "code",
   "execution_count": 31,
   "metadata": {},
   "outputs": [
    {
     "data": {
      "text/html": [
       "<div>\n",
       "<style scoped>\n",
       "    .dataframe tbody tr th:only-of-type {\n",
       "        vertical-align: middle;\n",
       "    }\n",
       "\n",
       "    .dataframe tbody tr th {\n",
       "        vertical-align: top;\n",
       "    }\n",
       "\n",
       "    .dataframe thead th {\n",
       "        text-align: right;\n",
       "    }\n",
       "</style>\n",
       "<table border=\"1\" class=\"dataframe\">\n",
       "  <thead>\n",
       "    <tr style=\"text-align: right;\">\n",
       "      <th></th>\n",
       "      <th>ks</th>\n",
       "      <th>Location</th>\n",
       "    </tr>\n",
       "  </thead>\n",
       "  <tbody>\n",
       "    <tr>\n",
       "      <th>Manual</th>\n",
       "      <td>0.094320</td>\n",
       "      <td>64.600049</td>\n",
       "    </tr>\n",
       "    <tr>\n",
       "      <th>Scipy</th>\n",
       "      <td>0.094322</td>\n",
       "      <td>64.600000</td>\n",
       "    </tr>\n",
       "  </tbody>\n",
       "</table>\n",
       "</div>"
      ],
      "text/plain": [
       "              ks   Location\n",
       "Manual  0.094320  64.600049\n",
       "Scipy   0.094322  64.600000"
      ]
     },
     "execution_count": 31,
     "metadata": {},
     "output_type": "execute_result"
    }
   ],
   "source": [
    "df_ks_gumbel_l = pd.DataFrame(\n",
    "    [\n",
    "        {\"ks\": ks_test_value_gumbel_l, \"Location\": x_ks_test_gumbel_l},\n",
    "        {\n",
    "            \"ks\": ks_res_gumbel_l.statistic,\n",
    "            \"Location\": ks_res_gumbel_l.statistic_location,\n",
    "        },\n",
    "    ]\n",
    ")\n",
    "df_ks_gumbel_l.index = [\"Manual\", \"Scipy\"]\n",
    "df_ks_gumbel_l"
   ]
  },
  {
   "cell_type": "markdown",
   "metadata": {},
   "source": [
    "Novamente percebe-se que o resultado obtido pela implementação apresentada foi muito próximo do resultado da função `kstest`."
   ]
  },
  {
   "cell_type": "markdown",
   "metadata": {},
   "source": [
    "### Teste de hipótese"
   ]
  },
  {
   "cell_type": "markdown",
   "metadata": {},
   "source": [
    "Para obter o valor de KS crítico, adotaremos o nível de significância ($\\alpha$) de **5%** e, portanto, a @eq-kscritico.\n",
    "\n",
    "$$\n",
    "KS_{crítico} = \\dfrac{1{,}36}{\\sqrt{n}}\n",
    "$$ {#eq-kscritico}"
   ]
  },
  {
   "cell_type": "code",
   "execution_count": 32,
   "metadata": {},
   "outputs": [
    {
     "data": {
      "text/plain": [
       "0.19233304448274094"
      ]
     },
     "execution_count": 32,
     "metadata": {},
     "output_type": "execute_result"
    }
   ],
   "source": [
    "#| code-fold: false\n",
    "ks_critical = 1.36 / (len(df_brazil_life_expectancy) ** 0.5)\n",
    "ks_critical"
   ]
  },
  {
   "cell_type": "markdown",
   "metadata": {},
   "source": [
    "Na tabela abaixo comparamos os valores da estatística KS obtidos com o crítico."
   ]
  },
  {
   "cell_type": "code",
   "execution_count": 33,
   "metadata": {},
   "outputs": [
    {
     "data": {
      "text/html": [
       "<div>\n",
       "<style scoped>\n",
       "    .dataframe tbody tr th:only-of-type {\n",
       "        vertical-align: middle;\n",
       "    }\n",
       "\n",
       "    .dataframe tbody tr th {\n",
       "        vertical-align: top;\n",
       "    }\n",
       "\n",
       "    .dataframe thead th {\n",
       "        text-align: right;\n",
       "    }\n",
       "</style>\n",
       "<table border=\"1\" class=\"dataframe\">\n",
       "  <thead>\n",
       "    <tr style=\"text-align: right;\">\n",
       "      <th></th>\n",
       "      <th>ks</th>\n",
       "    </tr>\n",
       "  </thead>\n",
       "  <tbody>\n",
       "    <tr>\n",
       "      <th>Gaussiano</th>\n",
       "      <td>0.106363</td>\n",
       "    </tr>\n",
       "    <tr>\n",
       "      <th>Gumbel_l</th>\n",
       "      <td>0.094320</td>\n",
       "    </tr>\n",
       "    <tr>\n",
       "      <th>Crítico</th>\n",
       "      <td>0.192333</td>\n",
       "    </tr>\n",
       "  </tbody>\n",
       "</table>\n",
       "</div>"
      ],
      "text/plain": [
       "                 ks\n",
       "Gaussiano  0.106363\n",
       "Gumbel_l   0.094320\n",
       "Crítico    0.192333"
      ]
     },
     "execution_count": 33,
     "metadata": {},
     "output_type": "execute_result"
    }
   ],
   "source": [
    "df_ks_comparison = pd.DataFrame(\n",
    "    [ks_test_value_gauss, ks_test_value_gumbel_l, ks_critical],\n",
    "    index=[\"Gaussiano\", \"Gumbel_l\", \"Crítico\"],\n",
    "    columns=[\"ks\"],\n",
    ")\n",
    "df_ks_comparison"
   ]
  },
  {
   "cell_type": "markdown",
   "metadata": {},
   "source": [
    "Portanto, houve aderência para os dois modelos testados."
   ]
  },
  {
   "cell_type": "markdown",
   "metadata": {},
   "source": [
    "Na @fig-cdfs e @fig-pdfs são apresentados os gráficos das CDFs e PDFs das distribuições analisadas, respectivamente."
   ]
  },
  {
   "cell_type": "code",
   "execution_count": 34,
   "metadata": {},
   "outputs": [
    {
     "data": {
      "image/png": "[encoded data removed]",
      "text/plain": [
       "<Figure size 640x480 with 1 Axes>"
      ]
     },
     "metadata": {},
     "output_type": "display_data"
    }
   ],
   "source": [
    "#| label: fig-cdfs\n",
    "#| fig-cap: \"CDFs das distribuições testadas e CDF empírica da expectativa de vida no Brasil.\"\n",
    "\n",
    "fig, ax = plt.subplots()\n",
    "x_plot = np.linspace(\n",
    "    ss.gumbel_l.ppf(0.001, loc=loc_gumbel_l, scale=scale_gumbel_l),\n",
    "    # ss.gumbel_l.ppf(0.999, loc=loc_gumbel_l, scale=scale_gumbel_l),\n",
    "    96,\n",
    "    1000,\n",
    ")\n",
    "ax.plot(\n",
    "    x_plot,\n",
    "    ss.norm.cdf(x_plot, loc=mean, scale=standard_deviation),\n",
    "    label=\"CDF Gaussiana\",\n",
    ")\n",
    "ax.plot(\n",
    "    x_plot,\n",
    "    ss.gumbel_l.cdf(x_plot, loc=loc_gumbel_l, scale=scale_gumbel_l),\n",
    "    label=\"CDF Gumbel_l\",\n",
    "    color=\"#2ca02c\",\n",
    ")\n",
    "ECDF.plot(ax=ax, label=\"ECDF (Empírica)\")\n",
    "ax.set_xlabel(\"Expectativa de vida (anos)\")\n",
    "ax.set_ylabel(\"Função cumulativa\")\n",
    "ax.legend(loc=\"best\")\n",
    "ax.grid(True, color=\"gray\", alpha=0.15)"
   ]
  },
  {
   "cell_type": "code",
   "execution_count": 35,
   "metadata": {},
   "outputs": [
    {
     "data": {
      "image/png": "[encoded data removed]",
      "text/plain": [
       "<Figure size 640x480 with 1 Axes>"
      ]
     },
     "metadata": {},
     "output_type": "display_data"
    }
   ],
   "source": [
    "#| label: fig-pdfs\n",
    "#| fig-cap: \"PDFs das distribuições testadas e histograma de densidade de probabilidade da expectativa de vida no Brasil.\"\n",
    "\n",
    "fig, ax = plt.subplots()\n",
    "x_plot = np.linspace(\n",
    "    ss.gumbel_l.ppf(0.001, loc=loc_gumbel_l, scale=scale_gumbel_l),\n",
    "    # ss.gumbel_l.ppf(0.999, loc=loc_gumbel_l, scale=scale_gumbel_l),\n",
    "    96,\n",
    "    1000,\n",
    ")\n",
    "ax.plot(\n",
    "    x_plot,\n",
    "    ss.norm.pdf(x_plot, loc=mean, scale=standard_deviation),\n",
    "    label=\"PDF Gaussiana\",\n",
    ")\n",
    "ax.plot(\n",
    "    x_plot,\n",
    "    ss.gumbel_l.pdf(x_plot, loc=loc_gumbel_l, scale=scale_gumbel_l),\n",
    "    label=\"PDF Gumbel_l\",\n",
    "    color=\"#2ca02c\",\n",
    ")\n",
    "sns.histplot(\n",
    "    data=df_brazil_life_expectancy,\n",
    "    x=\"Brazil Life Expectancy\",\n",
    "    bins=N_BINS,\n",
    "    stat=\"density\",\n",
    "    label=\"Histograma de dens. de prob.\",\n",
    "    ax=ax,\n",
    ")\n",
    "ax.set_xlabel(\"Expectativa de vida (anos)\")\n",
    "ax.set_ylabel(\"Função densidade de probabilidade\")\n",
    "ax.legend(loc=\"best\")\n",
    "ax.grid(True, color=\"gray\", alpha=0.15)"
   ]
  }
 ],
 "metadata": {
  "kernelspec": {
   "display_name": "Python 3 (ipykernel)",
   "language": "python",
   "name": "python3"
  },
  "language_info": {
   "codemirror_mode": {
    "name": "ipython",
    "version": 3
   },
   "file_extension": ".py",
   "mimetype": "text/x-python",
   "name": "python",
   "nbconvert_exporter": "python",
   "pygments_lexer": "ipython3",
   "version": "3.12.0"
  }
 },
 "nbformat": 4,
 "nbformat_minor": 5
}
