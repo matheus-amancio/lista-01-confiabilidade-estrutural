{
 "cells": [
  {
   "cell_type": "raw",
   "id": "e8707b7a-7281-41af-86f7-f76f354d6947",
   "metadata": {},
   "source": [
    "---\n",
    "title: \"Questão 1 - Lista 1 - Confiabilidade Estrutural\"\n",
    "author: \"Matheus Amancio Miranda\"\n",
    "date: \"November 9, 2023\"\n",
    "lang: pt\n",
    "format:\n",
    "    html:\n",
    "        code-fold: true\n",
    "jupyter: python3\n",
    "toc: true\n",
    "number-sections: true\n",
    "---"
   ]
  },
  {
   "cell_type": "markdown",
   "id": "1a8158db",
   "metadata": {},
   "source": [
    "Seja a base de dados [Gapminder](https://www.gapminder.org/data/). Tomando-se uma série amostral qualquer (buscar por “Choose individual indicators”), deve-se:\n",
    "\n",
    "a) Caracterizar a amostra, inclusive graficamente; [1,5]\n",
    "\n",
    "b) Com base no modelo Gaussiano e em um segundo (à escolha), verificar sua aderência\n",
    "à série de dados, usando o teste de Kolmogorov-Smirnov. Deve-se implementar o\n",
    "teste, sendo desejável validar a implementação com base em rotina disponível numa\n",
    "ferramenta de análise matemática ou linguagem de programação qualquer. "
   ]
  },
  {
   "cell_type": "markdown",
   "id": "b640fc0d",
   "metadata": {},
   "source": [
    "## Item a)"
   ]
  },
  {
   "cell_type": "markdown",
   "id": "e857a09c-a214-4a6e-b844-0f5de0cb9354",
   "metadata": {},
   "source": [
    "### Leitura e filtragem dos dados"
   ]
  },
  {
   "cell_type": "markdown",
   "id": "3a1887f7-e3d9-4334-98dd-4526e1ade466",
   "metadata": {},
   "source": [
    "Os dados escolhidos da base de dados [Gapminder](https://www.gapminder.org/data/) foram os de expectativas de vida.\n",
    "\n",
    "Optou-se por trabalhar com os dados somente do Brasil, no período de 1970 à 2019. Sendo assim, antes de calcular os parâmetros e gerar os gráficos para caracterização da amostra, é necessário filtrar os dados obtidos.\n",
    "\n",
    "Neste item, utilizou-se a linguagem de programação [Python](https://www.python.org/) e para efetuar a leitura e filtragem dos dados utilizou-se a famosa biblioteca [Pandas](https://pandas.pydata.org/).\n",
    "\n",
    "A leitura dos dados do arquivo `lex.csv` é feita pelo trecho do código abaixo."
   ]
  },
  {
   "cell_type": "code",
   "execution_count": 255,
   "id": "5ec77b38",
   "metadata": {},
   "outputs": [
    {
     "data": {
      "text/html": [
       "<div>\n",
       "<style scoped>\n",
       "    .dataframe tbody tr th:only-of-type {\n",
       "        vertical-align: middle;\n",
       "    }\n",
       "\n",
       "    .dataframe tbody tr th {\n",
       "        vertical-align: top;\n",
       "    }\n",
       "\n",
       "    .dataframe thead th {\n",
       "        text-align: right;\n",
       "    }\n",
       "</style>\n",
       "<table border=\"1\" class=\"dataframe\">\n",
       "  <thead>\n",
       "    <tr style=\"text-align: right;\">\n",
       "      <th></th>\n",
       "      <th>country</th>\n",
       "      <th>1800</th>\n",
       "      <th>1801</th>\n",
       "      <th>1802</th>\n",
       "      <th>1803</th>\n",
       "      <th>1804</th>\n",
       "      <th>1805</th>\n",
       "      <th>1806</th>\n",
       "      <th>1807</th>\n",
       "      <th>1808</th>\n",
       "      <th>...</th>\n",
       "      <th>2091</th>\n",
       "      <th>2092</th>\n",
       "      <th>2093</th>\n",
       "      <th>2094</th>\n",
       "      <th>2095</th>\n",
       "      <th>2096</th>\n",
       "      <th>2097</th>\n",
       "      <th>2098</th>\n",
       "      <th>2099</th>\n",
       "      <th>2100</th>\n",
       "    </tr>\n",
       "  </thead>\n",
       "  <tbody>\n",
       "    <tr>\n",
       "      <th>0</th>\n",
       "      <td>Afghanistan</td>\n",
       "      <td>28.2</td>\n",
       "      <td>28.2</td>\n",
       "      <td>28.2</td>\n",
       "      <td>28.2</td>\n",
       "      <td>28.2</td>\n",
       "      <td>28.2</td>\n",
       "      <td>28.1</td>\n",
       "      <td>28.1</td>\n",
       "      <td>28.1</td>\n",
       "      <td>...</td>\n",
       "      <td>75.5</td>\n",
       "      <td>75.7</td>\n",
       "      <td>75.8</td>\n",
       "      <td>76.0</td>\n",
       "      <td>76.1</td>\n",
       "      <td>76.2</td>\n",
       "      <td>76.4</td>\n",
       "      <td>76.5</td>\n",
       "      <td>76.6</td>\n",
       "      <td>76.8</td>\n",
       "    </tr>\n",
       "    <tr>\n",
       "      <th>1</th>\n",
       "      <td>Angola</td>\n",
       "      <td>27.0</td>\n",
       "      <td>27.0</td>\n",
       "      <td>27.0</td>\n",
       "      <td>27.0</td>\n",
       "      <td>27.0</td>\n",
       "      <td>27.0</td>\n",
       "      <td>27.0</td>\n",
       "      <td>27.0</td>\n",
       "      <td>27.0</td>\n",
       "      <td>...</td>\n",
       "      <td>78.8</td>\n",
       "      <td>79.0</td>\n",
       "      <td>79.1</td>\n",
       "      <td>79.2</td>\n",
       "      <td>79.3</td>\n",
       "      <td>79.5</td>\n",
       "      <td>79.6</td>\n",
       "      <td>79.7</td>\n",
       "      <td>79.9</td>\n",
       "      <td>80.0</td>\n",
       "    </tr>\n",
       "    <tr>\n",
       "      <th>2</th>\n",
       "      <td>Albania</td>\n",
       "      <td>35.4</td>\n",
       "      <td>35.4</td>\n",
       "      <td>35.4</td>\n",
       "      <td>35.4</td>\n",
       "      <td>35.4</td>\n",
       "      <td>35.4</td>\n",
       "      <td>35.4</td>\n",
       "      <td>35.4</td>\n",
       "      <td>35.4</td>\n",
       "      <td>...</td>\n",
       "      <td>87.4</td>\n",
       "      <td>87.5</td>\n",
       "      <td>87.6</td>\n",
       "      <td>87.7</td>\n",
       "      <td>87.8</td>\n",
       "      <td>87.9</td>\n",
       "      <td>88.0</td>\n",
       "      <td>88.2</td>\n",
       "      <td>88.3</td>\n",
       "      <td>88.4</td>\n",
       "    </tr>\n",
       "    <tr>\n",
       "      <th>3</th>\n",
       "      <td>Andorra</td>\n",
       "      <td>NaN</td>\n",
       "      <td>NaN</td>\n",
       "      <td>NaN</td>\n",
       "      <td>NaN</td>\n",
       "      <td>NaN</td>\n",
       "      <td>NaN</td>\n",
       "      <td>NaN</td>\n",
       "      <td>NaN</td>\n",
       "      <td>NaN</td>\n",
       "      <td>...</td>\n",
       "      <td>NaN</td>\n",
       "      <td>NaN</td>\n",
       "      <td>NaN</td>\n",
       "      <td>NaN</td>\n",
       "      <td>NaN</td>\n",
       "      <td>NaN</td>\n",
       "      <td>NaN</td>\n",
       "      <td>NaN</td>\n",
       "      <td>NaN</td>\n",
       "      <td>NaN</td>\n",
       "    </tr>\n",
       "    <tr>\n",
       "      <th>4</th>\n",
       "      <td>UAE</td>\n",
       "      <td>30.7</td>\n",
       "      <td>30.7</td>\n",
       "      <td>30.7</td>\n",
       "      <td>30.7</td>\n",
       "      <td>30.7</td>\n",
       "      <td>30.7</td>\n",
       "      <td>30.7</td>\n",
       "      <td>30.7</td>\n",
       "      <td>30.7</td>\n",
       "      <td>...</td>\n",
       "      <td>82.4</td>\n",
       "      <td>82.5</td>\n",
       "      <td>82.6</td>\n",
       "      <td>82.7</td>\n",
       "      <td>82.8</td>\n",
       "      <td>82.9</td>\n",
       "      <td>83.0</td>\n",
       "      <td>83.1</td>\n",
       "      <td>83.2</td>\n",
       "      <td>83.3</td>\n",
       "    </tr>\n",
       "    <tr>\n",
       "      <th>...</th>\n",
       "      <td>...</td>\n",
       "      <td>...</td>\n",
       "      <td>...</td>\n",
       "      <td>...</td>\n",
       "      <td>...</td>\n",
       "      <td>...</td>\n",
       "      <td>...</td>\n",
       "      <td>...</td>\n",
       "      <td>...</td>\n",
       "      <td>...</td>\n",
       "      <td>...</td>\n",
       "      <td>...</td>\n",
       "      <td>...</td>\n",
       "      <td>...</td>\n",
       "      <td>...</td>\n",
       "      <td>...</td>\n",
       "      <td>...</td>\n",
       "      <td>...</td>\n",
       "      <td>...</td>\n",
       "      <td>...</td>\n",
       "      <td>...</td>\n",
       "    </tr>\n",
       "    <tr>\n",
       "      <th>190</th>\n",
       "      <td>Samoa</td>\n",
       "      <td>25.4</td>\n",
       "      <td>25.4</td>\n",
       "      <td>25.4</td>\n",
       "      <td>25.4</td>\n",
       "      <td>25.4</td>\n",
       "      <td>25.4</td>\n",
       "      <td>25.4</td>\n",
       "      <td>25.4</td>\n",
       "      <td>25.4</td>\n",
       "      <td>...</td>\n",
       "      <td>79.8</td>\n",
       "      <td>79.9</td>\n",
       "      <td>80.0</td>\n",
       "      <td>80.1</td>\n",
       "      <td>80.3</td>\n",
       "      <td>80.4</td>\n",
       "      <td>80.5</td>\n",
       "      <td>80.6</td>\n",
       "      <td>80.7</td>\n",
       "      <td>80.8</td>\n",
       "    </tr>\n",
       "    <tr>\n",
       "      <th>191</th>\n",
       "      <td>Yemen</td>\n",
       "      <td>23.4</td>\n",
       "      <td>23.4</td>\n",
       "      <td>23.4</td>\n",
       "      <td>23.4</td>\n",
       "      <td>23.4</td>\n",
       "      <td>23.4</td>\n",
       "      <td>23.4</td>\n",
       "      <td>23.4</td>\n",
       "      <td>23.4</td>\n",
       "      <td>...</td>\n",
       "      <td>76.9</td>\n",
       "      <td>77.0</td>\n",
       "      <td>77.1</td>\n",
       "      <td>77.3</td>\n",
       "      <td>77.4</td>\n",
       "      <td>77.5</td>\n",
       "      <td>77.6</td>\n",
       "      <td>77.8</td>\n",
       "      <td>77.9</td>\n",
       "      <td>78.0</td>\n",
       "    </tr>\n",
       "    <tr>\n",
       "      <th>192</th>\n",
       "      <td>South Africa</td>\n",
       "      <td>33.5</td>\n",
       "      <td>33.5</td>\n",
       "      <td>33.5</td>\n",
       "      <td>33.5</td>\n",
       "      <td>33.5</td>\n",
       "      <td>33.5</td>\n",
       "      <td>33.5</td>\n",
       "      <td>33.5</td>\n",
       "      <td>33.5</td>\n",
       "      <td>...</td>\n",
       "      <td>76.4</td>\n",
       "      <td>76.5</td>\n",
       "      <td>76.7</td>\n",
       "      <td>76.8</td>\n",
       "      <td>77.0</td>\n",
       "      <td>77.1</td>\n",
       "      <td>77.3</td>\n",
       "      <td>77.4</td>\n",
       "      <td>77.5</td>\n",
       "      <td>77.7</td>\n",
       "    </tr>\n",
       "    <tr>\n",
       "      <th>193</th>\n",
       "      <td>Zambia</td>\n",
       "      <td>32.6</td>\n",
       "      <td>32.6</td>\n",
       "      <td>32.6</td>\n",
       "      <td>32.6</td>\n",
       "      <td>32.6</td>\n",
       "      <td>32.6</td>\n",
       "      <td>32.6</td>\n",
       "      <td>32.6</td>\n",
       "      <td>32.6</td>\n",
       "      <td>...</td>\n",
       "      <td>75.8</td>\n",
       "      <td>76.0</td>\n",
       "      <td>76.1</td>\n",
       "      <td>76.3</td>\n",
       "      <td>76.4</td>\n",
       "      <td>76.5</td>\n",
       "      <td>76.7</td>\n",
       "      <td>76.8</td>\n",
       "      <td>77.0</td>\n",
       "      <td>77.1</td>\n",
       "    </tr>\n",
       "    <tr>\n",
       "      <th>194</th>\n",
       "      <td>Zimbabwe</td>\n",
       "      <td>33.7</td>\n",
       "      <td>33.7</td>\n",
       "      <td>33.7</td>\n",
       "      <td>33.7</td>\n",
       "      <td>33.7</td>\n",
       "      <td>33.7</td>\n",
       "      <td>33.7</td>\n",
       "      <td>33.7</td>\n",
       "      <td>33.7</td>\n",
       "      <td>...</td>\n",
       "      <td>73.3</td>\n",
       "      <td>73.4</td>\n",
       "      <td>73.5</td>\n",
       "      <td>73.7</td>\n",
       "      <td>73.8</td>\n",
       "      <td>73.9</td>\n",
       "      <td>74.0</td>\n",
       "      <td>74.2</td>\n",
       "      <td>74.3</td>\n",
       "      <td>74.4</td>\n",
       "    </tr>\n",
       "  </tbody>\n",
       "</table>\n",
       "<p>195 rows × 302 columns</p>\n",
       "</div>"
      ],
      "text/plain": [
       "          country  1800  1801  1802  1803  1804  1805  1806  1807  1808  ...  \\\n",
       "0     Afghanistan  28.2  28.2  28.2  28.2  28.2  28.2  28.1  28.1  28.1  ...   \n",
       "1          Angola  27.0  27.0  27.0  27.0  27.0  27.0  27.0  27.0  27.0  ...   \n",
       "2         Albania  35.4  35.4  35.4  35.4  35.4  35.4  35.4  35.4  35.4  ...   \n",
       "3         Andorra   NaN   NaN   NaN   NaN   NaN   NaN   NaN   NaN   NaN  ...   \n",
       "4             UAE  30.7  30.7  30.7  30.7  30.7  30.7  30.7  30.7  30.7  ...   \n",
       "..            ...   ...   ...   ...   ...   ...   ...   ...   ...   ...  ...   \n",
       "190         Samoa  25.4  25.4  25.4  25.4  25.4  25.4  25.4  25.4  25.4  ...   \n",
       "191         Yemen  23.4  23.4  23.4  23.4  23.4  23.4  23.4  23.4  23.4  ...   \n",
       "192  South Africa  33.5  33.5  33.5  33.5  33.5  33.5  33.5  33.5  33.5  ...   \n",
       "193        Zambia  32.6  32.6  32.6  32.6  32.6  32.6  32.6  32.6  32.6  ...   \n",
       "194      Zimbabwe  33.7  33.7  33.7  33.7  33.7  33.7  33.7  33.7  33.7  ...   \n",
       "\n",
       "     2091  2092  2093  2094  2095  2096  2097  2098  2099  2100  \n",
       "0    75.5  75.7  75.8  76.0  76.1  76.2  76.4  76.5  76.6  76.8  \n",
       "1    78.8  79.0  79.1  79.2  79.3  79.5  79.6  79.7  79.9  80.0  \n",
       "2    87.4  87.5  87.6  87.7  87.8  87.9  88.0  88.2  88.3  88.4  \n",
       "3     NaN   NaN   NaN   NaN   NaN   NaN   NaN   NaN   NaN   NaN  \n",
       "4    82.4  82.5  82.6  82.7  82.8  82.9  83.0  83.1  83.2  83.3  \n",
       "..    ...   ...   ...   ...   ...   ...   ...   ...   ...   ...  \n",
       "190  79.8  79.9  80.0  80.1  80.3  80.4  80.5  80.6  80.7  80.8  \n",
       "191  76.9  77.0  77.1  77.3  77.4  77.5  77.6  77.8  77.9  78.0  \n",
       "192  76.4  76.5  76.7  76.8  77.0  77.1  77.3  77.4  77.5  77.7  \n",
       "193  75.8  76.0  76.1  76.3  76.4  76.5  76.7  76.8  77.0  77.1  \n",
       "194  73.3  73.4  73.5  73.7  73.8  73.9  74.0  74.2  74.3  74.4  \n",
       "\n",
       "[195 rows x 302 columns]"
      ]
     },
     "execution_count": 255,
     "metadata": {},
     "output_type": "execute_result"
    }
   ],
   "source": [
    "# | code-fold: false\n",
    "import pandas as pd\n",
    "\n",
    "df = pd.read_csv(\"lex.csv\")\n",
    "df"
   ]
  },
  {
   "cell_type": "markdown",
   "id": "e91f89b9",
   "metadata": {},
   "source": [
    "Como foi dito acima, trabalharemos com os dados somente do Brasil, no período de 1970 a 2019. No trecho de código abaixo são apresentadas as instruções para as filtragens necessárias e também manipulações com as estruturas de dados da biblioteca `pandas` para facilitar os trabalhos posteriores. Após o trecho de código, uma tabela com os dados filtrados é apresentada."
   ]
  },
  {
   "cell_type": "code",
   "execution_count": 256,
   "id": "7aaa47c0-2c33-450a-933a-6842925244f4",
   "metadata": {},
   "outputs": [
    {
     "data": {
      "text/html": [
       "<div>\n",
       "<style scoped>\n",
       "    .dataframe tbody tr th:only-of-type {\n",
       "        vertical-align: middle;\n",
       "    }\n",
       "\n",
       "    .dataframe tbody tr th {\n",
       "        vertical-align: top;\n",
       "    }\n",
       "\n",
       "    .dataframe thead th {\n",
       "        text-align: right;\n",
       "    }\n",
       "</style>\n",
       "<table border=\"1\" class=\"dataframe\">\n",
       "  <thead>\n",
       "    <tr style=\"text-align: right;\">\n",
       "      <th></th>\n",
       "      <th>Brazil Life Expectancy</th>\n",
       "    </tr>\n",
       "    <tr>\n",
       "      <th>Year</th>\n",
       "      <th></th>\n",
       "    </tr>\n",
       "  </thead>\n",
       "  <tbody>\n",
       "    <tr>\n",
       "      <th>1970</th>\n",
       "      <td>56.9</td>\n",
       "    </tr>\n",
       "    <tr>\n",
       "      <th>1971</th>\n",
       "      <td>57.5</td>\n",
       "    </tr>\n",
       "    <tr>\n",
       "      <th>1972</th>\n",
       "      <td>58.0</td>\n",
       "    </tr>\n",
       "    <tr>\n",
       "      <th>1973</th>\n",
       "      <td>58.6</td>\n",
       "    </tr>\n",
       "    <tr>\n",
       "      <th>1974</th>\n",
       "      <td>59.2</td>\n",
       "    </tr>\n",
       "    <tr>\n",
       "      <th>1975</th>\n",
       "      <td>59.8</td>\n",
       "    </tr>\n",
       "    <tr>\n",
       "      <th>1976</th>\n",
       "      <td>60.4</td>\n",
       "    </tr>\n",
       "    <tr>\n",
       "      <th>1977</th>\n",
       "      <td>61.1</td>\n",
       "    </tr>\n",
       "    <tr>\n",
       "      <th>1978</th>\n",
       "      <td>61.7</td>\n",
       "    </tr>\n",
       "    <tr>\n",
       "      <th>1979</th>\n",
       "      <td>62.3</td>\n",
       "    </tr>\n",
       "    <tr>\n",
       "      <th>1980</th>\n",
       "      <td>62.7</td>\n",
       "    </tr>\n",
       "    <tr>\n",
       "      <th>1981</th>\n",
       "      <td>63.3</td>\n",
       "    </tr>\n",
       "    <tr>\n",
       "      <th>1982</th>\n",
       "      <td>63.9</td>\n",
       "    </tr>\n",
       "    <tr>\n",
       "      <th>1983</th>\n",
       "      <td>64.1</td>\n",
       "    </tr>\n",
       "    <tr>\n",
       "      <th>1984</th>\n",
       "      <td>64.2</td>\n",
       "    </tr>\n",
       "    <tr>\n",
       "      <th>1985</th>\n",
       "      <td>64.6</td>\n",
       "    </tr>\n",
       "    <tr>\n",
       "      <th>1986</th>\n",
       "      <td>65.1</td>\n",
       "    </tr>\n",
       "    <tr>\n",
       "      <th>1987</th>\n",
       "      <td>65.7</td>\n",
       "    </tr>\n",
       "    <tr>\n",
       "      <th>1988</th>\n",
       "      <td>66.1</td>\n",
       "    </tr>\n",
       "    <tr>\n",
       "      <th>1989</th>\n",
       "      <td>66.7</td>\n",
       "    </tr>\n",
       "    <tr>\n",
       "      <th>1990</th>\n",
       "      <td>67.3</td>\n",
       "    </tr>\n",
       "    <tr>\n",
       "      <th>1991</th>\n",
       "      <td>67.9</td>\n",
       "    </tr>\n",
       "    <tr>\n",
       "      <th>1992</th>\n",
       "      <td>68.3</td>\n",
       "    </tr>\n",
       "    <tr>\n",
       "      <th>1993</th>\n",
       "      <td>68.4</td>\n",
       "    </tr>\n",
       "    <tr>\n",
       "      <th>1994</th>\n",
       "      <td>68.8</td>\n",
       "    </tr>\n",
       "    <tr>\n",
       "      <th>1995</th>\n",
       "      <td>69.2</td>\n",
       "    </tr>\n",
       "    <tr>\n",
       "      <th>1996</th>\n",
       "      <td>69.5</td>\n",
       "    </tr>\n",
       "    <tr>\n",
       "      <th>1997</th>\n",
       "      <td>70.1</td>\n",
       "    </tr>\n",
       "    <tr>\n",
       "      <th>1998</th>\n",
       "      <td>70.4</td>\n",
       "    </tr>\n",
       "    <tr>\n",
       "      <th>1999</th>\n",
       "      <td>70.8</td>\n",
       "    </tr>\n",
       "    <tr>\n",
       "      <th>2000</th>\n",
       "      <td>71.2</td>\n",
       "    </tr>\n",
       "    <tr>\n",
       "      <th>2001</th>\n",
       "      <td>71.5</td>\n",
       "    </tr>\n",
       "    <tr>\n",
       "      <th>2002</th>\n",
       "      <td>71.8</td>\n",
       "    </tr>\n",
       "    <tr>\n",
       "      <th>2003</th>\n",
       "      <td>72.0</td>\n",
       "    </tr>\n",
       "    <tr>\n",
       "      <th>2004</th>\n",
       "      <td>72.3</td>\n",
       "    </tr>\n",
       "    <tr>\n",
       "      <th>2005</th>\n",
       "      <td>72.8</td>\n",
       "    </tr>\n",
       "    <tr>\n",
       "      <th>2006</th>\n",
       "      <td>73.1</td>\n",
       "    </tr>\n",
       "    <tr>\n",
       "      <th>2007</th>\n",
       "      <td>73.3</td>\n",
       "    </tr>\n",
       "    <tr>\n",
       "      <th>2008</th>\n",
       "      <td>73.5</td>\n",
       "    </tr>\n",
       "    <tr>\n",
       "      <th>2009</th>\n",
       "      <td>73.7</td>\n",
       "    </tr>\n",
       "    <tr>\n",
       "      <th>2010</th>\n",
       "      <td>73.8</td>\n",
       "    </tr>\n",
       "    <tr>\n",
       "      <th>2011</th>\n",
       "      <td>74.0</td>\n",
       "    </tr>\n",
       "    <tr>\n",
       "      <th>2012</th>\n",
       "      <td>74.3</td>\n",
       "    </tr>\n",
       "    <tr>\n",
       "      <th>2013</th>\n",
       "      <td>74.5</td>\n",
       "    </tr>\n",
       "    <tr>\n",
       "      <th>2014</th>\n",
       "      <td>74.8</td>\n",
       "    </tr>\n",
       "    <tr>\n",
       "      <th>2015</th>\n",
       "      <td>75.0</td>\n",
       "    </tr>\n",
       "    <tr>\n",
       "      <th>2016</th>\n",
       "      <td>75.0</td>\n",
       "    </tr>\n",
       "    <tr>\n",
       "      <th>2017</th>\n",
       "      <td>75.4</td>\n",
       "    </tr>\n",
       "    <tr>\n",
       "      <th>2018</th>\n",
       "      <td>75.7</td>\n",
       "    </tr>\n",
       "    <tr>\n",
       "      <th>2019</th>\n",
       "      <td>75.8</td>\n",
       "    </tr>\n",
       "  </tbody>\n",
       "</table>\n",
       "</div>"
      ],
      "text/plain": [
       "      Brazil Life Expectancy\n",
       "Year                        \n",
       "1970                    56.9\n",
       "1971                    57.5\n",
       "1972                    58.0\n",
       "1973                    58.6\n",
       "1974                    59.2\n",
       "1975                    59.8\n",
       "1976                    60.4\n",
       "1977                    61.1\n",
       "1978                    61.7\n",
       "1979                    62.3\n",
       "1980                    62.7\n",
       "1981                    63.3\n",
       "1982                    63.9\n",
       "1983                    64.1\n",
       "1984                    64.2\n",
       "1985                    64.6\n",
       "1986                    65.1\n",
       "1987                    65.7\n",
       "1988                    66.1\n",
       "1989                    66.7\n",
       "1990                    67.3\n",
       "1991                    67.9\n",
       "1992                    68.3\n",
       "1993                    68.4\n",
       "1994                    68.8\n",
       "1995                    69.2\n",
       "1996                    69.5\n",
       "1997                    70.1\n",
       "1998                    70.4\n",
       "1999                    70.8\n",
       "2000                    71.2\n",
       "2001                    71.5\n",
       "2002                    71.8\n",
       "2003                    72.0\n",
       "2004                    72.3\n",
       "2005                    72.8\n",
       "2006                    73.1\n",
       "2007                    73.3\n",
       "2008                    73.5\n",
       "2009                    73.7\n",
       "2010                    73.8\n",
       "2011                    74.0\n",
       "2012                    74.3\n",
       "2013                    74.5\n",
       "2014                    74.8\n",
       "2015                    75.0\n",
       "2016                    75.0\n",
       "2017                    75.4\n",
       "2018                    75.7\n",
       "2019                    75.8"
      ]
     },
     "execution_count": 256,
     "metadata": {},
     "output_type": "execute_result"
    }
   ],
   "source": [
    "# | code-fold: false\n",
    "START_YEAR = 1970\n",
    "END_YEAR = 2019\n",
    "\n",
    "brazil_life_expectancy_serie = (\n",
    "    df[(df.country == \"Brazil\")]\n",
    "    .drop(columns=\"country\")\n",
    "    .reset_index(drop=True)\n",
    "    .squeeze()\n",
    "    .rename(\"Brazil Life Expectancy\")\n",
    ")\n",
    "\n",
    "df_brazil_life_expectancy = pd.DataFrame(brazil_life_expectancy_serie)\n",
    "df_brazil_life_expectancy.index = df_brazil_life_expectancy.index.astype(int)\n",
    "df_brazil_life_expectancy.index.names = [\"Year\"]\n",
    "df_brazil_life_expectancy = df_brazil_life_expectancy.loc[START_YEAR:END_YEAR]\n",
    "df_brazil_life_expectancy"
   ]
  },
  {
   "cell_type": "markdown",
   "id": "4fcc681c",
   "metadata": {},
   "source": [
    "### Caracterização da amostra"
   ]
  },
  {
   "cell_type": "markdown",
   "id": "e136b0af",
   "metadata": {},
   "source": [
    "#### Média ($\\bar{x}$)\n",
    "\n",
    "A média de uma amostra é dada pela @eq-media.\n",
    "\n",
    "$$\n",
    "\\bar{x} = \\dfrac{1}{n} \\sum_{i=1}^{n} x_{i}\n",
    "$$ {#eq-media}"
   ]
  },
  {
   "cell_type": "markdown",
   "id": "d9cc9ecd",
   "metadata": {},
   "source": [
    "No trecho de código abaixo é apresentada uma possível implementação para obter a média dos dados selecionados."
   ]
  },
  {
   "cell_type": "code",
   "execution_count": 257,
   "id": "2c05457e",
   "metadata": {},
   "outputs": [
    {
     "data": {
      "text/plain": [
       "68.12200000000001"
      ]
     },
     "execution_count": 257,
     "metadata": {},
     "output_type": "execute_result"
    }
   ],
   "source": [
    "#| code-fold: false\n",
    "mean = df_brazil_life_expectancy[\"Brazil Life Expectancy\"].sum() / len(df_brazil_life_expectancy)\n",
    "mean"
   ]
  },
  {
   "cell_type": "markdown",
   "id": "cf08d5d8",
   "metadata": {},
   "source": [
    "Portanto, a média da amostra selecionada é de **68,122 anos**."
   ]
  },
  {
   "cell_type": "markdown",
   "id": "2d281e4b",
   "metadata": {},
   "source": [
    "#### Variância ($s^{2}$)\n",
    "\n",
    "A variância de uma amostra pode ser calculada pela @eq-variancia.\n",
    "\n",
    "$$\n",
    "s^{2} = \\dfrac{1}{n-1} \\sum_{i=1}^{n} \\left ( x_{i} - \\bar{x} \\right)^{2}\n",
    "$$ {#eq-variancia}"
   ]
  },
  {
   "cell_type": "markdown",
   "id": "a7368788",
   "metadata": {},
   "source": [
    "No trecho de código abaixo é apresentada uma possível implementação para obter a variância da amostra."
   ]
  },
  {
   "cell_type": "code",
   "execution_count": 258,
   "id": "3527dc99",
   "metadata": {},
   "outputs": [
    {
     "data": {
      "text/plain": [
       "32.15522040816326"
      ]
     },
     "execution_count": 258,
     "metadata": {},
     "output_type": "execute_result"
    }
   ],
   "source": [
    "#| code-fold: false\n",
    "variance = df_brazil_life_expectancy[\"Brazil Life Expectancy\"].apply(lambda x: (x - mean) ** 2).sum() / (len(df_brazil_life_expectancy) - 1)\n",
    "variance"
   ]
  },
  {
   "cell_type": "markdown",
   "id": "4b5ae751",
   "metadata": {},
   "source": [
    "Portanto, a variância da amostra é de **32,155 anos²**."
   ]
  },
  {
   "cell_type": "markdown",
   "id": "9cadc4f0",
   "metadata": {},
   "source": [
    "#### Desvio padrão ($s$)\n",
    "\n",
    "O desvio padrão da amostra é calculado por meio da extração da raiz quadrada da variância, como expresso pela @eq-std.\n",
    "\n",
    "$$\n",
    "s = \\sqrt{\\dfrac{1}{n-1} \\sum_{i=1}^{n} \\left ( x_{i} - \\bar{x} \\right)^{2}}\n",
    "$$ {#eq-std}"
   ]
  },
  {
   "cell_type": "markdown",
   "id": "28f64646",
   "metadata": {},
   "source": [
    "Calculando o desvio padrão"
   ]
  },
  {
   "cell_type": "code",
   "execution_count": 259,
   "id": "5c6e1f90",
   "metadata": {},
   "outputs": [
    {
     "data": {
      "text/plain": [
       "5.670557327826186"
      ]
     },
     "execution_count": 259,
     "metadata": {},
     "output_type": "execute_result"
    }
   ],
   "source": [
    "#| code-fold: false\n",
    "standard_deviation = variance ** 0.5\n",
    "standard_deviation"
   ]
  },
  {
   "cell_type": "markdown",
   "id": "08859960",
   "metadata": {},
   "source": [
    "Logo, o desvio padrão da amostra é de **5,671 anos**."
   ]
  },
  {
   "cell_type": "markdown",
   "id": "4f8f8a64",
   "metadata": {},
   "source": [
    "#### Coeficiente de variação ($COV$)\n",
    "\n",
    "O coeficiente de variação é calculado por meio da @eq-cov.\n",
    "\n",
    "$$\n",
    "COV = \\dfrac{s}{\\bar{x}}\n",
    "$$ {#eq-cov}"
   ]
  },
  {
   "cell_type": "code",
   "execution_count": 260,
   "id": "86757e3b",
   "metadata": {},
   "outputs": [
    {
     "data": {
      "text/plain": [
       "0.0832412044247994"
      ]
     },
     "execution_count": 260,
     "metadata": {},
     "output_type": "execute_result"
    }
   ],
   "source": [
    "#| code-fold: false\n",
    "COV = standard_deviation / mean\n",
    "COV"
   ]
  },
  {
   "cell_type": "markdown",
   "id": "482e7232",
   "metadata": {},
   "source": [
    "Portanto, o coeficiente de variação da amostra é de **8,324%**."
   ]
  },
  {
   "cell_type": "markdown",
   "id": "14f44136",
   "metadata": {},
   "source": [
    "#### Máximo e mínimo\n",
    "\n",
    "Os anos em que se observaram as máximas e mínimas expectativas de vida são facilmente obtidos com a biblioteca `pandas`, conforme é mostrado abaixo."
   ]
  },
  {
   "cell_type": "code",
   "execution_count": 261,
   "id": "28dfc37a",
   "metadata": {},
   "outputs": [
    {
     "data": {
      "text/html": [
       "<div>\n",
       "<style scoped>\n",
       "    .dataframe tbody tr th:only-of-type {\n",
       "        vertical-align: middle;\n",
       "    }\n",
       "\n",
       "    .dataframe tbody tr th {\n",
       "        vertical-align: top;\n",
       "    }\n",
       "\n",
       "    .dataframe thead th {\n",
       "        text-align: right;\n",
       "    }\n",
       "</style>\n",
       "<table border=\"1\" class=\"dataframe\">\n",
       "  <thead>\n",
       "    <tr style=\"text-align: right;\">\n",
       "      <th></th>\n",
       "      <th>Brazil Life Expectancy</th>\n",
       "    </tr>\n",
       "    <tr>\n",
       "      <th>Year</th>\n",
       "      <th></th>\n",
       "    </tr>\n",
       "  </thead>\n",
       "  <tbody>\n",
       "    <tr>\n",
       "      <th>2019</th>\n",
       "      <td>75.8</td>\n",
       "    </tr>\n",
       "  </tbody>\n",
       "</table>\n",
       "</div>"
      ],
      "text/plain": [
       "      Brazil Life Expectancy\n",
       "Year                        \n",
       "2019                    75.8"
      ]
     },
     "execution_count": 261,
     "metadata": {},
     "output_type": "execute_result"
    }
   ],
   "source": [
    "#| code-fold: false\n",
    "max_expectancy = df_brazil_life_expectancy[df_brazil_life_expectancy[\"Brazil Life Expectancy\"]==df_brazil_life_expectancy[\"Brazil Life Expectancy\"].max()]\n",
    "max_expectancy"
   ]
  },
  {
   "cell_type": "code",
   "execution_count": 262,
   "id": "4d81e952",
   "metadata": {},
   "outputs": [
    {
     "data": {
      "text/html": [
       "<div>\n",
       "<style scoped>\n",
       "    .dataframe tbody tr th:only-of-type {\n",
       "        vertical-align: middle;\n",
       "    }\n",
       "\n",
       "    .dataframe tbody tr th {\n",
       "        vertical-align: top;\n",
       "    }\n",
       "\n",
       "    .dataframe thead th {\n",
       "        text-align: right;\n",
       "    }\n",
       "</style>\n",
       "<table border=\"1\" class=\"dataframe\">\n",
       "  <thead>\n",
       "    <tr style=\"text-align: right;\">\n",
       "      <th></th>\n",
       "      <th>Brazil Life Expectancy</th>\n",
       "    </tr>\n",
       "    <tr>\n",
       "      <th>Year</th>\n",
       "      <th></th>\n",
       "    </tr>\n",
       "  </thead>\n",
       "  <tbody>\n",
       "    <tr>\n",
       "      <th>1970</th>\n",
       "      <td>56.9</td>\n",
       "    </tr>\n",
       "  </tbody>\n",
       "</table>\n",
       "</div>"
      ],
      "text/plain": [
       "      Brazil Life Expectancy\n",
       "Year                        \n",
       "1970                    56.9"
      ]
     },
     "execution_count": 262,
     "metadata": {},
     "output_type": "execute_result"
    }
   ],
   "source": [
    "#| code-fold: false\n",
    "min_expectancy = df_brazil_life_expectancy[df_brazil_life_expectancy[\"Brazil Life Expectancy\"]==df_brazil_life_expectancy[\"Brazil Life Expectancy\"].min()]\n",
    "min_expectancy"
   ]
  },
  {
   "cell_type": "markdown",
   "id": "245ce492",
   "metadata": {},
   "source": [
    "#### Percentis\n",
    "\n",
    "Os percentis são medidas que dividem a amostra em 100 partes, cada uma com uma percentagem de dados aproximadamente igual.\n",
    "\n",
    "Os percentis 25, 50 e 75 são chamados **quartis** e o percentil 50 é também conhecido como a **mediana** da amostra.\n",
    "\n",
    "Para obter, por exemplo, a mediana, primeiramente é necessário ordenar os dados. Se a quantidade de dados for ímpar, o valor central é a própria mediana, senão, a mediana é a média dos dois valores centrais. O trecho de código abaixo calcula a mediana da amostra."
   ]
  },
  {
   "cell_type": "code",
   "execution_count": 263,
   "id": "cb848c45",
   "metadata": {},
   "outputs": [
    {
     "data": {
      "text/plain": [
       "69.0"
      ]
     },
     "execution_count": 263,
     "metadata": {},
     "output_type": "execute_result"
    }
   ],
   "source": [
    "#| code-fold: false\n",
    "def calculate_median(data: pd.Series):\n",
    "    data = data.sort_values()\n",
    "    n = len(data)\n",
    "    if n % 2 == 0:\n",
    "        return (data.iloc[n // 2] + data.iloc[n // 2 - 1]) / 2\n",
    "    else:\n",
    "        return data.iloc[n // 2]\n",
    "\n",
    "calculate_median(df_brazil_life_expectancy[\"Brazil Life Expectancy\"])"
   ]
  },
  {
   "cell_type": "markdown",
   "id": "3c083b76",
   "metadata": {},
   "source": [
    "Portanto, a mediana é de **69,0 anos**."
   ]
  },
  {
   "cell_type": "markdown",
   "id": "65fde0d0",
   "metadata": {},
   "source": [
    "A biblioteca `pandas` permite obter os valores dos percentis desejados de forma prática e fácil utilizando o método `quantile()`, como é mostrado abaixo."
   ]
  },
  {
   "cell_type": "code",
   "execution_count": 264,
   "id": "67cd78e2",
   "metadata": {},
   "outputs": [
    {
     "data": {
      "text/plain": [
       "63.949999999999996"
      ]
     },
     "execution_count": 264,
     "metadata": {},
     "output_type": "execute_result"
    }
   ],
   "source": [
    "#| code-fold: false\n",
    "df_brazil_life_expectancy[\"Brazil Life Expectancy\"].quantile(0.25)"
   ]
  },
  {
   "cell_type": "code",
   "execution_count": 265,
   "id": "51b29564",
   "metadata": {},
   "outputs": [
    {
     "data": {
      "text/plain": [
       "69.0"
      ]
     },
     "execution_count": 265,
     "metadata": {},
     "output_type": "execute_result"
    }
   ],
   "source": [
    "#| code-fold: false\n",
    "df_brazil_life_expectancy[\"Brazil Life Expectancy\"].quantile(0.50) # median"
   ]
  },
  {
   "cell_type": "code",
   "execution_count": 266,
   "id": "15cce9df",
   "metadata": {},
   "outputs": [
    {
     "data": {
      "text/plain": [
       "73.25"
      ]
     },
     "execution_count": 266,
     "metadata": {},
     "output_type": "execute_result"
    }
   ],
   "source": [
    "#| code-fold: false\n",
    "df_brazil_life_expectancy[\"Brazil Life Expectancy\"].quantile(0.75)"
   ]
  },
  {
   "cell_type": "markdown",
   "id": "14973707",
   "metadata": {},
   "source": [
    "Os parâmetros da amostra podem ser obtidos também de forma resumida e imediata com o uso do método `describe()`."
   ]
  },
  {
   "cell_type": "code",
   "execution_count": 267,
   "id": "7bd70841",
   "metadata": {},
   "outputs": [
    {
     "data": {
      "text/html": [
       "<div>\n",
       "<style scoped>\n",
       "    .dataframe tbody tr th:only-of-type {\n",
       "        vertical-align: middle;\n",
       "    }\n",
       "\n",
       "    .dataframe tbody tr th {\n",
       "        vertical-align: top;\n",
       "    }\n",
       "\n",
       "    .dataframe thead th {\n",
       "        text-align: right;\n",
       "    }\n",
       "</style>\n",
       "<table border=\"1\" class=\"dataframe\">\n",
       "  <thead>\n",
       "    <tr style=\"text-align: right;\">\n",
       "      <th></th>\n",
       "      <th>Brazil Life Expectancy</th>\n",
       "    </tr>\n",
       "  </thead>\n",
       "  <tbody>\n",
       "    <tr>\n",
       "      <th>count</th>\n",
       "      <td>50.000000</td>\n",
       "    </tr>\n",
       "    <tr>\n",
       "      <th>mean</th>\n",
       "      <td>68.122000</td>\n",
       "    </tr>\n",
       "    <tr>\n",
       "      <th>std</th>\n",
       "      <td>5.670557</td>\n",
       "    </tr>\n",
       "    <tr>\n",
       "      <th>min</th>\n",
       "      <td>56.900000</td>\n",
       "    </tr>\n",
       "    <tr>\n",
       "      <th>25%</th>\n",
       "      <td>63.950000</td>\n",
       "    </tr>\n",
       "    <tr>\n",
       "      <th>50%</th>\n",
       "      <td>69.000000</td>\n",
       "    </tr>\n",
       "    <tr>\n",
       "      <th>75%</th>\n",
       "      <td>73.250000</td>\n",
       "    </tr>\n",
       "    <tr>\n",
       "      <th>max</th>\n",
       "      <td>75.800000</td>\n",
       "    </tr>\n",
       "  </tbody>\n",
       "</table>\n",
       "</div>"
      ],
      "text/plain": [
       "       Brazil Life Expectancy\n",
       "count               50.000000\n",
       "mean                68.122000\n",
       "std                  5.670557\n",
       "min                 56.900000\n",
       "25%                 63.950000\n",
       "50%                 69.000000\n",
       "75%                 73.250000\n",
       "max                 75.800000"
      ]
     },
     "execution_count": 267,
     "metadata": {},
     "output_type": "execute_result"
    }
   ],
   "source": [
    "# | code-fold: false\n",
    "df_brazil_life_expectancy.describe()"
   ]
  },
  {
   "cell_type": "markdown",
   "id": "5b5e22e1",
   "metadata": {},
   "source": [
    "### Visualização gráfica"
   ]
  },
  {
   "cell_type": "markdown",
   "id": "ae245a6d",
   "metadata": {},
   "source": [
    "#### Box plot\n",
    "\n",
    "O *box plot* é uma representação gráfica que utiliza os quartis e os valores mínimo e máximo para representar a distribuição de dados quantitativos.\n",
    "\n",
    "Para a amostra que estamos trabalhando, um *box plot* é apresentado na @fig-box-plot. Na construção desse e dos demais gráficos, a biblioteca utilizada foi a [Seaborn](https://seaborn.pydata.org/)."
   ]
  },
  {
   "cell_type": "code",
   "execution_count": 268,
   "id": "55b6765e",
   "metadata": {},
   "outputs": [
    {
     "data": {
      "image/png": "[encoded data removed]",
      "text/plain": [
       "<Figure size 640x480 with 1 Axes>"
      ]
     },
     "metadata": {},
     "output_type": "display_data"
    }
   ],
   "source": [
    "#| label: fig-box-plot\n",
    "#| fig-cap: \"Box plot da expectativa de vida no Brasil\"\n",
    "\n",
    "import seaborn as sns\n",
    "\n",
    "fig = sns.boxplot(x=df_brazil_life_expectancy[\"Brazil Life Expectancy\"])\n",
    "fig.set_xlabel(\"Expectativa de vida (anos)\");"
   ]
  },
  {
   "cell_type": "markdown",
   "id": "f330708e",
   "metadata": {},
   "source": [
    "#### Histograma de ocorrências\n",
    "\n",
    "Para calcular a quantidade de intervalos ($k$) para o histograma, podemos utilizar a fórmula de Sturges (@eq-sturges)\n",
    "\n",
    "$$\n",
    "k = \\log_{2} \\left ( n \\right ) + 1\n",
    "$$ {#eq-sturges}\n",
    "\n",
    "em que $n$ é o tamanho da amostra. Logo, utilizando a biblioteca [NumPy](https://numpy.org/) para calcular o logaritmo, obtemos:"
   ]
  },
  {
   "cell_type": "code",
   "execution_count": 269,
   "id": "ef7bf8d6",
   "metadata": {},
   "outputs": [
    {
     "data": {
      "text/plain": [
       "6.643856189774724"
      ]
     },
     "execution_count": 269,
     "metadata": {},
     "output_type": "execute_result"
    }
   ],
   "source": [
    "#| code-fold: false\n",
    "\n",
    "import numpy as np\n",
    "\n",
    "k = np.log2(len(df_brazil_life_expectancy)) + 1\n",
    "k"
   ]
  },
  {
   "cell_type": "markdown",
   "id": "292bb6dc",
   "metadata": {},
   "source": [
    "Utilizaremos então 7 intervalos para construirmos os histogramas dos dados."
   ]
  },
  {
   "cell_type": "markdown",
   "id": "33939d24",
   "metadata": {},
   "source": [
    "Um histograma de ocorrências dos dados é apresentado na @fig-hist-ocorrencias."
   ]
  },
  {
   "cell_type": "code",
   "execution_count": 270,
   "id": "0c0151e9",
   "metadata": {},
   "outputs": [
    {
     "data": {
      "image/png": "[encoded data removed]",
      "text/plain": [
       "<Figure size 640x480 with 1 Axes>"
      ]
     },
     "metadata": {},
     "output_type": "display_data"
    }
   ],
   "source": [
    "#| label: fig-hist-ocorrencias\n",
    "#| fig-cap: \"Histograma de ocorrências da expectativa de vida no Brasil\"\n",
    "\n",
    "N_BINS = 7\n",
    "\n",
    "fig = sns.histplot(data=df_brazil_life_expectancy, x=\"Brazil Life Expectancy\", bins=N_BINS)\n",
    "fig.set_xlabel(\"Expectativa de vida (anos)\")\n",
    "fig.set_ylabel(\"Ocorrências\");"
   ]
  },
  {
   "cell_type": "markdown",
   "id": "648bcf52",
   "metadata": {},
   "source": [
    "#### Histograma de frequências relativas\n",
    "\n",
    "Um histograma de frequências relativas é apresentado na @fig-hist-frelativas."
   ]
  },
  {
   "cell_type": "code",
   "execution_count": 272,
   "id": "58ad74e4",
   "metadata": {},
   "outputs": [
    {
     "data": {
      "image/png": "[encoded data removed]",
      "text/plain": [
       "<Figure size 640x480 with 1 Axes>"
      ]
     },
     "metadata": {},
     "output_type": "display_data"
    }
   ],
   "source": [
    "#| label: fig-hist-frelativas\n",
    "#| fig-cap: \"Histograma de frequências relativas da expectativa de vida no Brasil\"\n",
    "\n",
    "fig = sns.histplot(data=df_brazil_life_expectancy, x=\"Brazil Life Expectancy\", bins=N_BINS, stat=\"probability\")\n",
    "fig.set_xlabel(\"Expectativa de vida (anos)\")\n",
    "fig.set_ylabel(\"Frequência relativa\");\n"
   ]
  },
  {
   "cell_type": "markdown",
   "id": "0a8c2367",
   "metadata": {},
   "source": [
    "#### Histograma de densidade de probabilidade\n",
    "\n",
    "Um histograma de densidade de probabilidade é apresentado na @fig-hist-density-prob."
   ]
  },
  {
   "cell_type": "code",
   "execution_count": 273,
   "id": "9b3d483d",
   "metadata": {},
   "outputs": [
    {
     "data": {
      "image/png": "[encoded data removed]",
      "text/plain": [
       "<Figure size 640x480 with 1 Axes>"
      ]
     },
     "metadata": {},
     "output_type": "display_data"
    }
   ],
   "source": [
    "#| label: fig-hist-density-prob\n",
    "#| fig-cap: \"Histograma de densidade de probabilidade da expectativa de vida no Brasil\"\n",
    "\n",
    "fig = sns.histplot(data=df_brazil_life_expectancy, x=\"Brazil Life Expectancy\", bins=N_BINS, stat=\"density\")\n",
    "fig.set_xlabel(\"Expectativa de vida (anos)\")\n",
    "fig.set_ylabel(\"Densidade de probabilidade\");"
   ]
  },
  {
   "cell_type": "markdown",
   "id": "718e8277",
   "metadata": {},
   "source": [
    "#### Histograma cumulativo das observações\n",
    "\n",
    "Um histograma cumulativo das observações é apresentado na @fig-hist-cumulativo-obs."
   ]
  },
  {
   "cell_type": "code",
   "execution_count": 286,
   "id": "ab6c5656",
   "metadata": {},
   "outputs": [
    {
     "data": {
      "image/png": "[encoded data removed]",
      "text/plain": [
       "<Figure size 640x480 with 1 Axes>"
      ]
     },
     "metadata": {},
     "output_type": "display_data"
    }
   ],
   "source": [
    "#| label: fig-hist-cumulativo-obs\n",
    "#| fig-cap: \"Histograma de densidade de probabilidade acumulada da expectativa de vida no Brasil\"\n",
    "\n",
    "fig = sns.ecdfplot(data=df_brazil_life_expectancy, x=\"Brazil Life Expectancy\")\n",
    "fig.set_xlabel(\"Expectativa de vida (anos)\")\n",
    "fig.set_ylabel(\"Função cumulativa\");"
   ]
  }
 ],
 "metadata": {
  "kernelspec": {
   "display_name": "Python 3 (ipykernel)",
   "language": "python",
   "name": "python3"
  },
  "language_info": {
   "codemirror_mode": {
    "name": "ipython",
    "version": 3
   },
   "file_extension": ".py",
   "mimetype": "text/x-python",
   "name": "python",
   "nbconvert_exporter": "python",
   "pygments_lexer": "ipython3",
   "version": "3.12.0"
  }
 },
 "nbformat": 4,
 "nbformat_minor": 5
}
