{
 "cells": [
  {
   "cell_type": "raw",
   "metadata": {},
   "source": [
    "---\n",
    "title: \"Questão 2 - Lista 1 - Confiabilidade Estrutural\"\n",
    "author: \"Matheus Amancio Miranda\"\n",
    "date: \"November 16, 2023\"\n",
    "lang: pt\n",
    "format:\n",
    "    html:\n",
    "        code-fold: true\n",
    "        self-contained: true\n",
    "jupyter: python3\n",
    "toc: true\n",
    "number-sections: true\n",
    "---"
   ]
  },
  {
   "cell_type": "markdown",
   "metadata": {},
   "source": [
    "Seja a treliça isostática representada a seguir. As barras são tubulares, com diâmetro externo e espessura iguais a $D = 50\\, \\textrm{mm}$ e $t = 5\\, \\textrm{mm}$, respectivamente. Com base no Princípio dos Trabalhos Virtuais, ou método equivalente, obter a equação do deslocamento vertical no ponto C ($\\delta_{C}$).\n",
    "\n",
    "![](./images/Imagem1.png)\n",
    "\n",
    "Admita-se que as forças $P$ e $Q$, e o módulo de elasticidade do aço ($E$) são variáveis aleatórias (v.a.) no processo (vide Tabela 1). Ainda que não se possa definir de forma exata o modelo estatístico que rege a v.a. $\\delta_{C}$, pode-se inferir a respeito de sua distribuição com base em simulação. Assim, deve-se gerar séries de números randômicos para E, P e Q, obtendo-se uma série de dados simulados para $\\delta_{C}$. Com base na análise de seu histograma e em um teste de aderência à escolha, deve-se verificar se os dados de $\\delta_{C}$ são originados do modelo Lognormal.\n",
    "\n",
    "Tabela 1 - Descrição estatística das v.a. do problema\n",
    "\n",
    "| **Variável** | **Média** | **COV** | **Distribuição** |\n",
    "|--------------|-----------|---------|------------------|\n",
    "| $E$ (GPa)    | 205       | 0,05    | Normal           |\n",
    "| $P$ (kN)     | 60        | 0,1     | Normal           |\n",
    "| $Q$ (kN)     | 40        | 0,1     | Normal           |"
   ]
  },
  {
   "cell_type": "markdown",
   "metadata": {},
   "source": [
    "# Resolução\n",
    "\n",
    "## Expressão do deslocamento vertical no ponto C ($\\delta_{C}$)\n",
    "\n",
    "No arquivo `trelica_q2.pdf` é realizada a aplicação do Princípio dos Trabalhos Virtuais na treliça para o cálculo da expressão do deslocamento vertical no Ponto C, dada pela @eq-delta-c.\n",
    "\n",
    "$$\n",
    "\\delta_{C} = \\dfrac{4P + 14Q + 4 \\sqrt{2} (P + 2Q)}{EA} \n",
    "$$ {#eq-delta-c}\n",
    "\n",
    "## Inferência sobre a distribuição do deslocamento\n",
    "\n",
    "Para inferir sobre a distribuição do deslocamento, foram gerados 50000 pontos randomicamente baseados nas distribuições da Tabela 1 para $E$, $P$ e $Q$. Para isso, foi utilizada a linguagem [Python](https://python.org/) e a biblioteca [NumPy](https://numpy.org), conforme é apresentado no código abaixo."
   ]
  },
  {
   "cell_type": "code",
   "execution_count": 2,
   "metadata": {},
   "outputs": [],
   "source": [
    "#| code-fold: false\n",
    "\n",
    "\n",
    "import numpy as np\n",
    "\n",
    "SIZE = 50_000\n",
    "np.random.seed(0)\n",
    "\n",
    "mu_E = 205.0e9  # Pa\n",
    "COV_E = 0.05\n",
    "sigma_E = COV_E * mu_E\n",
    "\n",
    "mu_P = 60.0e3  # N\n",
    "COV_P = 0.1\n",
    "sigma_P = COV_P * mu_P\n",
    "\n",
    "mu_Q = 40.0e3  # N\n",
    "COV_Q = 0.1\n",
    "sigma_Q = COV_Q * mu_Q\n",
    "\n",
    "De = 50e-3  # m\n",
    "t = 5e-3  # m\n",
    "A = np.pi * (De**2 - (De - 2 * t) ** 2) / 4  # m^2\n",
    "\n",
    "\n",
    "def calc_delta_C(P, Q, E, A):\n",
    "    return (4 * P + 14 * Q + 4 * np.sqrt(2) * (P + 2 * Q)) / (E * A)\n",
    "\n",
    "\n",
    "E_values = np.random.normal(mu_E, sigma_E, SIZE)\n",
    "P_values = np.random.normal(mu_P, sigma_P, SIZE)\n",
    "Q_values = np.random.normal(mu_Q, sigma_Q, SIZE)\n",
    "\n",
    "delta_C_values = calc_delta_C(P_values, Q_values, E_values, A) * 1E2  # cm"
   ]
  },
  {
   "cell_type": "markdown",
   "metadata": {},
   "source": [
    "Um histograma de densidade de probabilidade é apresentado na @fig-hist-q2. A construção desse histograma foi feita por meio da biblioteca [Seaborn](https://seaborn.pydata.org/)."
   ]
  },
  {
   "cell_type": "code",
   "execution_count": 3,
   "metadata": {},
   "outputs": [
    {
     "data": {
      "image/png": "[encoded data removed]",
      "text/plain": [
       "<Figure size 640x480 with 1 Axes>"
      ]
     },
     "metadata": {},
     "output_type": "display_data"
    }
   ],
   "source": [
    "#| label: fig-hist-q2\n",
    "#| fig-cap: Histograma de densidade de probabilidade do deslocamento vertical no ponto C.\n",
    "\n",
    "import seaborn as sns\n",
    "\n",
    "\n",
    "fig = sns.histplot(data=delta_C_values, stat=\"density\")\n",
    "fig.set_xlabel(\"Deslocamento (cm)\")\n",
    "fig.set_ylabel(\"Densidade de probabilidade\");"
   ]
  },
  {
   "cell_type": "markdown",
   "metadata": {},
   "source": [
    "Para obter os parâmetros desses dados para a distribuição Lognormal, utilizamos a biblioteca [SciPy](https://scipy.org/)."
   ]
  },
  {
   "cell_type": "code",
   "execution_count": 4,
   "metadata": {},
   "outputs": [],
   "source": [
    "#| code-fold: false\n",
    "\n",
    "import scipy.stats as ss\n",
    "\n",
    "s, loc, scale = ss.lognorm.fit(delta_C_values)"
   ]
  },
  {
   "cell_type": "markdown",
   "metadata": {},
   "source": [
    "Adaptou-se a implementação do teste de Kolmogorov-Smirnov feito na Questão 1 para utilizá-lo nessa questão."
   ]
  },
  {
   "cell_type": "code",
   "execution_count": 5,
   "metadata": {},
   "outputs": [],
   "source": [
    "import matplotlib.pyplot as plt\n",
    "\n",
    "def calculate_ks_test(data: np.array, ecdf, distribution, **parameters):\n",
    "    min_value = data.min()\n",
    "    max_value = data.max()\n",
    "    step = (max_value - min_value) / 1e5\n",
    "\n",
    "    x_range = np.arange(min_value, max_value + step, step)\n",
    "\n",
    "    ks_test_value = 0\n",
    "    x_ks_test = min_value\n",
    "\n",
    "    for xi in x_range:\n",
    "        ks = abs(ecdf.evaluate(xi) - distribution.cdf(xi, **parameters))\n",
    "        if ks > ks_test_value:\n",
    "            ks_test_value = ks\n",
    "            x_ks_test = xi\n",
    "\n",
    "    return ks_test_value, x_ks_test\n",
    "\n",
    "\n",
    "def plot_ks_test(\n",
    "    ecdf, distribution, x_ks_value, ks_test_value, save=False, xytext=None, **parameters\n",
    "):\n",
    "    fig, ax = plt.subplots()\n",
    "    x_plot = np.linspace(\n",
    "        distribution.ppf(0.001, **parameters),\n",
    "        distribution.ppf(0.999, **parameters),\n",
    "        1000,\n",
    "    )\n",
    "    ax.plot(x_plot, distribution.cdf(x_plot, **parameters), label=\"CDF\")\n",
    "    ecdf.plot(ax=ax, label=\"ECDF (Empírica)\")\n",
    "    ax.plot(\n",
    "        [x_ks_value, x_ks_value],\n",
    "        [\n",
    "            distribution.cdf(x_ks_value, **parameters),\n",
    "            ecdf.evaluate(x_ks_value),\n",
    "        ],\n",
    "        \"k+-\",\n",
    "    )\n",
    "    ax.set_xlabel(\"Deslocamento (cm)\")\n",
    "    ax.set_ylabel(\"Função cumulativa\")\n",
    "    ax.legend(loc=\"best\")\n",
    "    ax.annotate(\n",
    "        f\"ks = {ks_test_value:.5f}\",\n",
    "        (x_ks_value, ecdf.evaluate(x_ks_value) + 0.05),\n",
    "        xytext=(x_ks_value + 1, ecdf.evaluate(x_ks_value) + 0.05)\n",
    "        if xytext is None\n",
    "        else xytext,\n",
    "    )\n",
    "    ax.grid(True, color=\"gray\", alpha=0.15)\n",
    "    if save:\n",
    "        fig.savefig(\"ks-test.pdf\", bbox_inches=\"tight\")"
   ]
  },
  {
   "cell_type": "markdown",
   "metadata": {},
   "source": [
    "Na @fig-ks-test é representado o teste de Kolmogorov-Smirnov baseado na implementação apresentada para a distribuição Lognormal."
   ]
  },
  {
   "cell_type": "code",
   "execution_count": 6,
   "metadata": {},
   "outputs": [
    {
     "data": {
      "image/png": "[encoded data removed]",
      "text/plain": [
       "<Figure size 640x480 with 1 Axes>"
      ]
     },
     "metadata": {},
     "output_type": "display_data"
    }
   ],
   "source": [
    "#| label: fig-ks-test\n",
    "#| fig-cap: Teste de Kolmogorov-Smirnov para a distribuição Lognormal ajustada aos dados.\n",
    "\n",
    "ecdf = ss.ecdf(delta_C_values).cdf\n",
    "\n",
    "ks_test_value, x_ks_value = calculate_ks_test(delta_C_values, ecdf, ss.lognorm, s=s, loc=loc, scale=scale)\n",
    "plot_ks_test(\n",
    "    ecdf,\n",
    "    ss.lognorm,\n",
    "    x_ks_value,\n",
    "    ks_test_value,\n",
    "    s=s,\n",
    "    loc=loc,\n",
    "    scale=scale,\n",
    "    xytext=(x_ks_value + 0.01, ecdf.evaluate(x_ks_value) - 0.005),\n",
    ")"
   ]
  },
  {
   "cell_type": "markdown",
   "metadata": {},
   "source": [
    "Na tabela abaixo são comparados os valores obtidos com a implementação desenvolvida com os obtidos por meio da função `kstest`."
   ]
  },
  {
   "cell_type": "code",
   "execution_count": 7,
   "metadata": {},
   "outputs": [
    {
     "data": {
      "text/html": [
       "<div>\n",
       "<style scoped>\n",
       "    .dataframe tbody tr th:only-of-type {\n",
       "        vertical-align: middle;\n",
       "    }\n",
       "\n",
       "    .dataframe tbody tr th {\n",
       "        vertical-align: top;\n",
       "    }\n",
       "\n",
       "    .dataframe thead th {\n",
       "        text-align: right;\n",
       "    }\n",
       "</style>\n",
       "<table border=\"1\" class=\"dataframe\">\n",
       "  <thead>\n",
       "    <tr style=\"text-align: right;\">\n",
       "      <th></th>\n",
       "      <th>ks</th>\n",
       "      <th>Location</th>\n",
       "    </tr>\n",
       "  </thead>\n",
       "  <tbody>\n",
       "    <tr>\n",
       "      <th>Manual</th>\n",
       "      <td>0.002277</td>\n",
       "      <td>0.991496</td>\n",
       "    </tr>\n",
       "    <tr>\n",
       "      <th>Scipy</th>\n",
       "      <td>0.002284</td>\n",
       "      <td>0.991493</td>\n",
       "    </tr>\n",
       "  </tbody>\n",
       "</table>\n",
       "</div>"
      ],
      "text/plain": [
       "              ks  Location\n",
       "Manual  0.002277  0.991496\n",
       "Scipy   0.002284  0.991493"
      ]
     },
     "execution_count": 7,
     "metadata": {},
     "output_type": "execute_result"
    }
   ],
   "source": [
    "import pandas as pd\n",
    "\n",
    "\n",
    "ks_res_lognormal = ss.kstest(delta_C_values, \"lognorm\", args=(s, loc, scale))\n",
    "\n",
    "df_ks_gauss = pd.DataFrame(\n",
    "    [\n",
    "        {\"ks\": ks_test_value, \"Location\": x_ks_value},\n",
    "        {\"ks\": ks_res_lognormal.statistic, \"Location\": ks_res_lognormal.statistic_location},\n",
    "    ]\n",
    ")\n",
    "df_ks_gauss.index = [\"Manual\", \"Scipy\"]\n",
    "df_ks_gauss"
   ]
  },
  {
   "cell_type": "markdown",
   "metadata": {},
   "source": [
    "Considerando um nível de significância ($\\alpha$) de 5%, podemos calcular o valor crítico do teste."
   ]
  },
  {
   "cell_type": "code",
   "execution_count": 8,
   "metadata": {},
   "outputs": [
    {
     "data": {
      "text/plain": [
       "0.006082104898799429"
      ]
     },
     "execution_count": 8,
     "metadata": {},
     "output_type": "execute_result"
    }
   ],
   "source": [
    "#| code-fold: false\n",
    "ks_critical_value = 1.36 / np.sqrt(SIZE)\n",
    "ks_critical_value"
   ]
  },
  {
   "cell_type": "markdown",
   "metadata": {},
   "source": [
    "Uma vez que o valor calculado (**0,0023**) foi menor que o crítico (**0,0061**), verificamos que, para esse nível de significância, podemos admitir que os dados testados são originados do modelo Lognormal."
   ]
  }
 ],
 "metadata": {
  "kernelspec": {
   "display_name": "Python 3",
   "language": "python",
   "name": "python3"
  },
  "language_info": {
   "codemirror_mode": {
    "name": "ipython",
    "version": 3
   },
   "file_extension": ".py",
   "mimetype": "text/x-python",
   "name": "python",
   "nbconvert_exporter": "python",
   "pygments_lexer": "ipython3",
   "version": "3.12.0"
  }
 },
 "nbformat": 4,
 "nbformat_minor": 2
}
